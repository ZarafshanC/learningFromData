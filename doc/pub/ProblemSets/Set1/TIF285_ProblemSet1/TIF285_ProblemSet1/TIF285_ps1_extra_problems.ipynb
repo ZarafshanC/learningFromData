{
 "cells": [
  {
   "cell_type": "markdown",
   "metadata": {},
   "source": [
    "## Instructions\n",
    "- See deadline on the course web page\n",
    "- This problem set is performed individually. See examination rules on the course web page.\n",
    "- Students are allowed to discuss together and help each other when solving the problems. However, every student must understand and be able to explain his/her submitted solution. Plagiarism is not allowed (submissions will be both manually and automatically monitored).\n",
    "- The two notebooks for each problem set contain a number of basic and extra problems; you can choose which and how many to work on.\n",
    "- Many problems are automatically graded using `assert` statements. You should check that your code passes these statements without raising an `AssertionError`. Note that there might be additional, hidden tests that must be passed for full credit. In addition, some tasks are either completely manually graded or part-automatic/part-manual.\n",
    "- Note that grading is performed in the teacher's python environment, which is based on the conda `environment.yml` file in the course github repo. Please avoid using additional python modules (such as `plotly`) as this might cause automatic tests to fail.\n",
    "\n",
    "- **Important:** Hand-in is performed through the following actions:\n",
    "  - Make sure to always complete **Task 0** in the header part of the notebook and that this part does not raise any `AssertionError`(s). \n",
    "  - Upload your solution in the form of your edited version of this jupyter notebook via the appropriate module in Canvas.\n",
    "  - The name of the uploaded file **must be the same as the original one**!\n",
    "  \n",
    "  Note that the hand-in might not be automatically graded if you have changed the name of the uploaded file."
   ]
  },
  {
   "cell_type": "markdown",
   "metadata": {},
   "source": [
    "- Before you turn this problem in, make sure everything runs as expected. First, **restart the kernel** (in the menubar, select Kernel$\\rightarrow$Restart) and then **run all cells** (in the menubar, select Cell$\\rightarrow$Run All).\n",
    "\n",
    "- Make sure that the **run time is smaller than a few minutes**. If needed you might have to reduce some computational tasks; e.g. by decreasing the number of grid points or sampling steps. Please ask the supervisors if you are uncertain about the run time. \n",
    "\n",
    "- Your solutions are usually expected where it says `YOUR CODE HERE` or <font color=\"red\">\"PLEASE WRITE YOUR ANSWER HERE\"</font>."
   ]
  },
  {
   "cell_type": "markdown",
   "metadata": {},
   "source": [
    "### Task 0 \n",
    "#### (0 points)\n",
    "Fill your personal details in the dictionary 'student' with the following key/value pairs:\n",
    "- **Lastname**: Your lastname as a string\n",
    "- **Firstname**: Your firstname as a string\n",
    "- **DOB-year**: The year for your date of birth as a four-digit integer\n",
    "- **DOB-month**: The month for your date of birth as an integer (1-12)\n",
    "- **DOB-day**: The year for your date of birth as an integer (1-31)\n",
    "- **CID**: Your Chalmers login ID as a string"
   ]
  },
  {
   "cell_type": "code",
   "execution_count": 1,
   "metadata": {
    "deletable": false,
    "nbgrader": {
     "cell_type": "code",
     "checksum": "e4b41fd8e57932c927ede3a155032c98",
     "grade": false,
     "grade_id": "student_info",
     "locked": false,
     "schema_version": 3,
     "solution": true,
     "task": false
    }
   },
   "outputs": [
    {
     "data": {
      "text/plain": [
       "{'Lastname': 'Lozada',\n",
       " 'Firstname': 'Alejandro',\n",
       " 'CID': 'lozadaa',\n",
       " 'DOB-year': 1997,\n",
       " 'DOB-month': 4,\n",
       " 'DOB-day': 17}"
      ]
     },
     "execution_count": 1,
     "metadata": {},
     "output_type": "execute_result"
    }
   ],
   "source": [
    "student={}\n",
    "# Update the values below. Note the formats.\n",
    "student['Lastname']='Lozada'  # string\n",
    "student['Firstname']='Alejandro' # string\n",
    "student['CID']='lozadaa'        # string\n",
    "student['DOB-year']=1997         # four-digit integer\n",
    "student['DOB-month']=4           # integer in the range [1, 12]\n",
    "student['DOB-day']=17             # integer in the range [1, 31]\n",
    "\n",
    "student"
   ]
  },
  {
   "cell_type": "code",
   "execution_count": 2,
   "metadata": {
    "deletable": false,
    "editable": false,
    "nbgrader": {
     "cell_type": "code",
     "checksum": "04fad85b593dac43e9a577b7ad0eda92",
     "grade": true,
     "grade_id": "correct_student_info",
     "locked": true,
     "points": 0,
     "schema_version": 3,
     "solution": false,
     "task": false
    }
   },
   "outputs": [],
   "source": [
    "for key in ['Lastname', 'Firstname','CID']:\n",
    "    assert type(student[key]) is str, f'{key} is wrong type.'\n",
    "    assert student[key] not in ['name_here','cid_here'],\\\n",
    "        f'Fill your {key} as a string.'\n",
    "\n",
    "for key in ['DOB-year', 'DOB-month','DOB-day']:\n",
    "    assert type(student[key]) is int, f'{key} is wrong type.'\n",
    "\n",
    "assert (student['DOB-year'] > 1900 and student['DOB-year'] < 2100)\n",
    "assert student['DOB-month'] in range(1,13), \\\n",
    "    'DOB month should be an integer in the range [1, 12]'\n",
    "assert student['DOB-day'] in range(1,32), \\\n",
    "    'DOB day should be an integer in the range [1, 31]'"
   ]
  },
  {
   "cell_type": "markdown",
   "metadata": {
    "deletable": false,
    "editable": false,
    "nbgrader": {
     "cell_type": "markdown",
     "checksum": "8e21e909aaacb19cde0a49f423690276",
     "grade": false,
     "grade_id": "cell-6f99a2583f9fb27d",
     "locked": true,
     "schema_version": 3,
     "solution": false,
     "task": false
    }
   },
   "source": [
    "By changing the below boolean variable `student_self_assessment` to `True` you attest that:\n",
    "1. All handed in solutions were produced by yourself in the sense that you understand your solutions and should be able to explain and discuss them with a peer or with a teacher.\n",
    "2. That discussions with your peers are allowed, also concerning approaches to solve the problem sets, but that direct plagiarism is not allowed and that you must reach your own understanding of submitted solutions according to the definition in the previous point."
   ]
  },
  {
   "cell_type": "code",
   "execution_count": 3,
   "metadata": {
    "deletable": false,
    "nbgrader": {
     "cell_type": "code",
     "checksum": "64a7020fd0e62e5b51ef4470ae1c797f",
     "grade": false,
     "grade_id": "student-self-assessment",
     "locked": false,
     "schema_version": 3,
     "solution": true,
     "task": false
    }
   },
   "outputs": [],
   "source": [
    "student_self_assessment = True\n"
   ]
  },
  {
   "cell_type": "code",
   "execution_count": 4,
   "metadata": {
    "deletable": false,
    "editable": false,
    "nbgrader": {
     "cell_type": "code",
     "checksum": "d873afed15d2d3de2ef460d53fccf90f",
     "grade": true,
     "grade_id": "cell-795bedd2908899aa",
     "locked": true,
     "points": 0,
     "schema_version": 3,
     "solution": false,
     "task": false
    }
   },
   "outputs": [],
   "source": [
    "assert student_self_assessment == True, 'You must assert the individual solution statements.'"
   ]
  },
  {
   "cell_type": "markdown",
   "metadata": {},
   "source": [
    "# Problem Set 1\n",
    "## Extra problems\n",
    "### Learning from data [TIF285], Chalmers, Fall 2022\n",
    "\n",
    "Last revised: 20-Aug-2022 by Christian Forssén [christian.forssen@chalmers.se]"
   ]
  },
  {
   "cell_type": "code",
   "execution_count": 5,
   "metadata": {
    "deletable": false,
    "nbgrader": {
     "cell_type": "code",
     "checksum": "61603b6b71f80b2617bf90aaffea2bf6",
     "grade": false,
     "grade_id": "cell-30c16b2db381306f",
     "locked": false,
     "schema_version": 3,
     "solution": true,
     "task": false
    }
   },
   "outputs": [],
   "source": [
    "# import modules\n",
    "\n",
    "import sys\n",
    "import numpy as np\n",
    "import scipy as scipy\n",
    "import matplotlib.pyplot as plt\n",
    "import pandas as pd\n",
    "import sklearn as skl\n",
    "import emcee as emcee"
   ]
  },
  {
   "cell_type": "markdown",
   "metadata": {},
   "source": [
    "## Problem 5 (extra)\n",
    "### (3 points)"
   ]
  },
  {
   "cell_type": "markdown",
   "metadata": {},
   "source": [
    "#### Reload the third dataset from Problem 3"
   ]
  },
  {
   "cell_type": "code",
   "execution_count": null,
   "metadata": {
    "deletable": false,
    "editable": false,
    "nbgrader": {
     "cell_type": "code",
     "checksum": "b65699b26dc4d055770c8991d25a9d6e",
     "grade": false,
     "grade_id": "cell-9bbcc6d8d2e07690",
     "locked": true,
     "schema_version": 3,
     "solution": false,
     "task": false
    }
   },
   "outputs": [],
   "source": [
    "datafile = 'DataFiles/dataset3.dat'\n",
    "X, y = np.loadtxt(datafile, unpack=True)\n",
    "m = len(X)\n",
    "X = X.reshape(m,1); y = y.reshape(m,1)"
   ]
  },
  {
   "cell_type": "markdown",
   "metadata": {
    "deletable": false,
    "editable": false,
    "nbgrader": {
     "cell_type": "markdown",
     "checksum": "0863bc5e0649091e0f07c618d5ba415e",
     "grade": false,
     "grade_id": "cell-10862146b5aeebc1",
     "locked": true,
     "points": 3,
     "schema_version": 3,
     "solution": false,
     "task": true
    }
   },
   "source": [
    "#### Validation curves\n",
    "Create a validation curve for the polynomial model (for different degrees) where you plot the training score and the validation score as a function of the model complexity. \n",
    "- The model complexity is simply the degree of the polynomial.\n",
    "- Make sure to print (e.g. in the axis label) what \"score\" that is shown (remember that different measures are being used in the literature).\n",
    "- For the computation of training and validation scores you should use cross-validation which is more stable than the use of a single, random pair of training and validation sets.\n",
    "\n",
    "Question to ponder:\n",
    "- From this curve: Which order polynomial do you think was used when generating the data?\n",
    "\n",
    "*Hint:* `scikit-learn` has a function `validation_curve` that might be useful. It is instructive to implement the calculation of learning curves yourself, but it is not required for this task."
   ]
  },
  {
   "cell_type": "code",
   "execution_count": null,
   "metadata": {
    "deletable": false,
    "nbgrader": {
     "cell_type": "code",
     "checksum": "5b7143d6e8baebac5a8c177116fabbfe",
     "grade": false,
     "grade_id": "cell-4c0faa3d3a1db40e",
     "locked": false,
     "schema_version": 3,
     "solution": true,
     "task": false
    }
   },
   "outputs": [],
   "source": [
    "# \n",
    "# YOUR CODE HERE\n",
    "# "
   ]
  },
  {
   "cell_type": "markdown",
   "metadata": {},
   "source": [
    "## Problem 6 (extra)\n",
    "### (3 points)"
   ]
  },
  {
   "cell_type": "markdown",
   "metadata": {},
   "source": [
    "### Gradient descent methods"
   ]
  },
  {
   "cell_type": "markdown",
   "metadata": {},
   "source": [
    "#### Generate noisy data with a quadratic feature\n",
    "This is the same data as in Problem 2."
   ]
  },
  {
   "cell_type": "code",
   "execution_count": 6,
   "metadata": {
    "deletable": false,
    "editable": false,
    "nbgrader": {
     "cell_type": "code",
     "checksum": "11ea7d7ce7df7d4ead07c95cddf0219f",
     "grade": false,
     "grade_id": "cell-b8c83bd1b3a4a7e0",
     "locked": true,
     "schema_version": 3,
     "solution": false,
     "task": false
    }
   },
   "outputs": [
    {
     "ename": "NameError",
     "evalue": "name 'm' is not defined",
     "output_type": "error",
     "traceback": [
      "\u001b[1;31m---------------------------------------------------------------------------\u001b[0m",
      "\u001b[1;31mNameError\u001b[0m                                 Traceback (most recent call last)",
      "\u001b[1;32m<ipython-input-6-45889eef203b>\u001b[0m in \u001b[0;36m<module>\u001b[1;34m\u001b[0m\n\u001b[0;32m      9\u001b[0m \u001b[0mnoise_std\u001b[0m \u001b[1;33m=\u001b[0m \u001b[1;36m0.2\u001b[0m\u001b[1;33m\u001b[0m\u001b[1;33m\u001b[0m\u001b[0m\n\u001b[0;32m     10\u001b[0m \u001b[0my\u001b[0m \u001b[1;33m=\u001b[0m \u001b[0mtheta_true\u001b[0m\u001b[1;33m[\u001b[0m\u001b[1;36m2\u001b[0m\u001b[1;33m]\u001b[0m \u001b[1;33m*\u001b[0m \u001b[0mX\u001b[0m\u001b[1;33m**\u001b[0m\u001b[1;36m2\u001b[0m \u001b[1;33m+\u001b[0m \u001b[0mtheta_true\u001b[0m\u001b[1;33m[\u001b[0m\u001b[1;36m1\u001b[0m\u001b[1;33m]\u001b[0m \u001b[1;33m*\u001b[0m \u001b[0mX\u001b[0m \u001b[1;33m+\u001b[0m \u001b[0mtheta_true\u001b[0m\u001b[1;33m[\u001b[0m\u001b[1;36m0\u001b[0m\u001b[1;33m]\u001b[0m\u001b[0;31m \u001b[0m\u001b[0;31m\\\u001b[0m\u001b[1;33m\u001b[0m\u001b[1;33m\u001b[0m\u001b[0m\n\u001b[1;32m---> 11\u001b[1;33m \u001b[1;33m+\u001b[0m  \u001b[0mnp\u001b[0m\u001b[1;33m.\u001b[0m\u001b[0mrandom\u001b[0m\u001b[1;33m.\u001b[0m\u001b[0mnormal\u001b[0m\u001b[1;33m(\u001b[0m\u001b[0mloc\u001b[0m\u001b[1;33m=\u001b[0m\u001b[1;36m0.0\u001b[0m\u001b[1;33m,\u001b[0m \u001b[0mscale\u001b[0m\u001b[1;33m=\u001b[0m\u001b[0mnoise_std\u001b[0m\u001b[1;33m,\u001b[0m \u001b[0msize\u001b[0m\u001b[1;33m=\u001b[0m\u001b[1;33m(\u001b[0m\u001b[0mm\u001b[0m\u001b[1;33m,\u001b[0m\u001b[1;36m1\u001b[0m\u001b[1;33m)\u001b[0m\u001b[1;33m)\u001b[0m\u001b[1;33m\u001b[0m\u001b[1;33m\u001b[0m\u001b[0m\n\u001b[0m",
      "\u001b[1;31mNameError\u001b[0m: name 'm' is not defined"
     ]
    }
   ],
   "source": [
    "# Generate noisy data with a quadratic feature\n",
    "# use the following code:\n",
    "np.random.seed(42)\n",
    "\n",
    "# X are picked uniform random [0,2]\n",
    "X = 2 * np.random.rand(100, 1)\n",
    "# Linear relation to the predicted value, but with Gaussian noise (mean=0, standard deviation=0.2)\n",
    "theta_true = [0.25, 1, 0.75]\n",
    "noise_std = 0.2\n",
    "y = theta_true[2] * X**2 + theta_true[1] * X + theta_true[0] \\\n",
    "+  np.random.normal(loc=0.0, scale=noise_std, size=(m,1))"
   ]
  },
  {
   "cell_type": "markdown",
   "metadata": {},
   "source": [
    "#### (a) Batch and stochastic gradient descent\n",
    "Implement both batch and stochastic gradient descent and use these methods to find the best fit parameters of a quadratic model. Make sure that you also save the convergence path, i.e., how the parameters change as a function of iteration number. Concerning batch gradient descent you can use the methods that you implemented in Problem 2 with relevant modifications.\n",
    "- You might want to tune the learning hyperparameter $\\eta$.\n",
    "- Do 50 epochs for the SGD (each epoch corresponding to using all instances of data once).\n",
    "- You can start from $\\theta=(0,0,0)$.\n",
    "- Compare with the solution from Problem 2."
   ]
  },
  {
   "cell_type": "code",
   "execution_count": null,
   "metadata": {
    "deletable": false,
    "nbgrader": {
     "cell_type": "code",
     "checksum": "2b85105dadfb07f823fc99b3a9a026a9",
     "grade": false,
     "grade_id": "bgd",
     "locked": false,
     "schema_version": 3,
     "solution": true,
     "task": false
    }
   },
   "outputs": [],
   "source": [
    "# Implement BGD and use it to find the best-fit parameters\n",
    "#\n",
    "# At the end, the following array should contain the \n",
    "# best-fit parameters: \n",
    "# theta_0 (constant term), theta_1 (linear), theta_2 (quadratic)\n",
    "theta_bgd = np.array([0., 0., 0.]) # Note the order\n",
    "\n",
    "# \n",
    "# YOUR CODE HERE\n",
    "# "
   ]
  },
  {
   "cell_type": "code",
   "execution_count": null,
   "metadata": {
    "deletable": false,
    "nbgrader": {
     "cell_type": "code",
     "checksum": "73ad5295fd60570971e6e54eed2ead47",
     "grade": false,
     "grade_id": "sgd",
     "locked": false,
     "schema_version": 3,
     "solution": true,
     "task": false
    }
   },
   "outputs": [],
   "source": [
    "# Implement SGD and use it to find the best-fit parameters\n",
    "#\n",
    "# At the end, the following array should contain the \n",
    "# best-fit parameters: \n",
    "# theta_0 (constant term), theta_1 (linear), theta_2 (quadratic)\n",
    "theta_sgd = np.array([0., 0., 0.]) # Note the order\n",
    "\n",
    "# \n",
    "# YOUR CODE HERE\n",
    "# "
   ]
  },
  {
   "cell_type": "code",
   "execution_count": null,
   "metadata": {
    "deletable": false,
    "editable": false,
    "nbgrader": {
     "cell_type": "code",
     "checksum": "4a38011e6c5704f73db630e9697d2be8",
     "grade": true,
     "grade_id": "correct_bgd_sgd",
     "locked": true,
     "points": 1,
     "schema_version": 3,
     "solution": false,
     "task": false
    }
   },
   "outputs": [],
   "source": [
    "assert theta_bgd.shape ==(3,)\n",
    "assert not (theta_bgd==0).any()\n",
    "assert theta_sgd.shape ==(3,)\n",
    "assert not (theta_sgd==0).any()\n"
   ]
  },
  {
   "cell_type": "markdown",
   "metadata": {},
   "source": [
    "#### (b) Mini-batch gradient descent\n",
    "Implement mini-batch gradient descent and use this method to find the best fit parameters. Details:\n",
    "- use a mini-batch size of 20%\n",
    "- perform 50 epochs \n",
    "- hint: the `numpy.random.permutation` function might be useful for creating the mini-batches. \n",
    "- Compare with the solutions from BGD and SGD."
   ]
  },
  {
   "cell_type": "code",
   "execution_count": null,
   "metadata": {
    "deletable": false,
    "nbgrader": {
     "cell_type": "code",
     "checksum": "4667146537d278884f9a92df74d7fd65",
     "grade": false,
     "grade_id": "mbgd",
     "locked": false,
     "schema_version": 3,
     "solution": true,
     "task": false
    }
   },
   "outputs": [],
   "source": [
    "# Implement MBGD and use it to find the best-fit parameters\n",
    "#\n",
    "# At the end, the following array should contain the \n",
    "# best-fit parameters: \n",
    "# theta_0 (constant term), theta_1 (linear), theta_2 (quadratic)\n",
    "theta_mbgd = np.array([0., 0., 0.]) # Note the order\n",
    "\n",
    "# \n",
    "# YOUR CODE HERE\n",
    "# "
   ]
  },
  {
   "cell_type": "code",
   "execution_count": null,
   "metadata": {
    "deletable": false,
    "editable": false,
    "nbgrader": {
     "cell_type": "code",
     "checksum": "5a209cb54e036d557dbf5558f08a836a",
     "grade": true,
     "grade_id": "correct_mbgd",
     "locked": true,
     "points": 1,
     "schema_version": 3,
     "solution": false,
     "task": false
    }
   },
   "outputs": [],
   "source": [
    "assert theta_mbgd.shape ==(3,)\n",
    "assert not (theta_mbgd==0).any()\n"
   ]
  },
  {
   "cell_type": "markdown",
   "metadata": {
    "deletable": false,
    "editable": false,
    "nbgrader": {
     "cell_type": "markdown",
     "checksum": "b3c145c55263fdc4ca46b64105070db0",
     "grade": false,
     "grade_id": "gd_convergence",
     "locked": true,
     "points": 1,
     "schema_version": 3,
     "solution": false,
     "task": true
    }
   },
   "source": [
    "#### (c) Convergence\n",
    "Compare the convergence pattern for the BGD, SGD and MGD, i.e. plot the path towards the optimal set of parameters. \n",
    "- You can start from $\\theta=(0,0,0)$ with all three GD algorithms.\n",
    "- Note that the path is in 3D (since there are three parameters in our quadratic model). You should plot the three different 2D projections of the path.\n",
    "- Indicate also the true optimum (as found by solving the normal equation)."
   ]
  },
  {
   "cell_type": "code",
   "execution_count": null,
   "metadata": {
    "deletable": false,
    "nbgrader": {
     "cell_type": "code",
     "checksum": "0e0efe08e3dcb155147df8c8fe84fede",
     "grade": false,
     "grade_id": "cell-a0ed6a6e81042c13",
     "locked": false,
     "schema_version": 3,
     "solution": true,
     "task": false
    }
   },
   "outputs": [],
   "source": [
    "# \n",
    "# YOUR CODE HERE\n",
    "# "
   ]
  },
  {
   "cell_type": "code",
   "execution_count": null,
   "metadata": {},
   "outputs": [],
   "source": []
  }
 ],
 "metadata": {
  "@webio": {
   "lastCommId": null,
   "lastKernelId": null
  },
  "kernelspec": {
   "display_name": "Python 3",
   "language": "python",
   "name": "python3"
  },
  "language_info": {
   "codemirror_mode": {
    "name": "ipython",
    "version": 3
   },
   "file_extension": ".py",
   "mimetype": "text/x-python",
   "name": "python",
   "nbconvert_exporter": "python",
   "pygments_lexer": "ipython3",
   "version": "3.8.8"
  },
  "nav_menu": {},
  "toc": {
   "navigate_menu": true,
   "number_sections": true,
   "sideBar": true,
   "threshold": 6,
   "toc_cell": false,
   "toc_section_display": "block",
   "toc_window_display": false
  }
 },
 "nbformat": 4,
 "nbformat_minor": 1
}
