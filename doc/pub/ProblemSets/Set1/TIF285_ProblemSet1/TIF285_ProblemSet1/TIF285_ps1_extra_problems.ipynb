{
 "cells": [
  {
   "cell_type": "markdown",
   "metadata": {},
   "source": [
    "## Instructions\n",
    "- See deadline on the course web page\n",
    "- This problem set is performed individually. See examination rules on the course web page.\n",
    "- Students are allowed to discuss together and help each other when solving the problems. However, every student must understand and be able to explain his/her submitted solution. Plagiarism is not allowed (submissions will be both manually and automatically monitored).\n",
    "- The two notebooks for each problem set contain a number of basic and extra problems; you can choose which and how many to work on.\n",
    "- Many problems are automatically graded using `assert` statements. You should check that your code passes these statements without raising an `AssertionError`. Note that there might be additional, hidden tests that must be passed for full credit. In addition, some tasks are either completely manually graded or part-automatic/part-manual.\n",
    "- Note that grading is performed in the teacher's python environment, which is based on the conda `environment.yml` file in the course github repo. Please avoid using additional python modules (such as `plotly`) as this might cause automatic tests to fail.\n",
    "\n",
    "- **Important:** Hand-in is performed through the following actions:\n",
    "  - Make sure to always complete **Task 0** in the header part of the notebook and that this part does not raise any `AssertionError`(s). \n",
    "  - Upload your solution in the form of your edited version of this jupyter notebook via the appropriate module in Canvas.\n",
    "  - The name of the uploaded file **must be the same as the original one**!\n",
    "  \n",
    "  Note that the hand-in might not be automatically graded if you have changed the name of the uploaded file."
   ]
  },
  {
   "cell_type": "markdown",
   "metadata": {},
   "source": [
    "- Before you turn this problem in, make sure everything runs as expected. First, **restart the kernel** (in the menubar, select Kernel$\\rightarrow$Restart) and then **run all cells** (in the menubar, select Cell$\\rightarrow$Run All).\n",
    "\n",
    "- Make sure that the **run time is smaller than a few minutes**. If needed you might have to reduce some computational tasks; e.g. by decreasing the number of grid points or sampling steps. Please ask the supervisors if you are uncertain about the run time. \n",
    "\n",
    "- Your solutions are usually expected where it says `YOUR CODE HERE` or <font color=\"red\">\"PLEASE WRITE YOUR ANSWER HERE\"</font>."
   ]
  },
  {
   "cell_type": "markdown",
   "metadata": {
    "heading_collapsed": true
   },
   "source": [
    "### Task 0 \n",
    "#### (0 points)\n",
    "Fill your personal details in the dictionary 'student' with the following key/value pairs:\n",
    "- **Lastname**: Your lastname as a string\n",
    "- **Firstname**: Your firstname as a string\n",
    "- **DOB-year**: The year for your date of birth as a four-digit integer\n",
    "- **DOB-month**: The month for your date of birth as an integer (1-12)\n",
    "- **DOB-day**: The year for your date of birth as an integer (1-31)\n",
    "- **CID**: Your Chalmers login ID as a string"
   ]
  },
  {
   "cell_type": "code",
   "execution_count": 1,
   "metadata": {
    "deletable": false,
    "hidden": true,
    "nbgrader": {
     "cell_type": "code",
     "checksum": "e4b41fd8e57932c927ede3a155032c98",
     "grade": false,
     "grade_id": "student_info",
     "locked": false,
     "schema_version": 3,
     "solution": true,
     "task": false
    }
   },
   "outputs": [
    {
     "data": {
      "text/plain": [
       "{'Lastname': 'Lozada',\n",
       " 'Firstname': 'Alejandro',\n",
       " 'CID': 'lozadaa',\n",
       " 'DOB-year': 1997,\n",
       " 'DOB-month': 4,\n",
       " 'DOB-day': 17}"
      ]
     },
     "execution_count": 1,
     "metadata": {},
     "output_type": "execute_result"
    }
   ],
   "source": [
    "student={}\n",
    "# Update the values below. Note the formats.\n",
    "student['Lastname']='Lozada'  # string\n",
    "student['Firstname']='Alejandro' # string\n",
    "student['CID']='lozadaa'        # string\n",
    "student['DOB-year']=1997         # four-digit integer\n",
    "student['DOB-month']=4           # integer in the range [1, 12]\n",
    "student['DOB-day']=17             # integer in the range [1, 31]\n",
    "\n",
    "student"
   ]
  },
  {
   "cell_type": "code",
   "execution_count": 2,
   "metadata": {
    "deletable": false,
    "editable": false,
    "hidden": true,
    "nbgrader": {
     "cell_type": "code",
     "checksum": "04fad85b593dac43e9a577b7ad0eda92",
     "grade": true,
     "grade_id": "correct_student_info",
     "locked": true,
     "points": 0,
     "schema_version": 3,
     "solution": false,
     "task": false
    }
   },
   "outputs": [],
   "source": [
    "for key in ['Lastname', 'Firstname','CID']:\n",
    "    assert type(student[key]) is str, f'{key} is wrong type.'\n",
    "    assert student[key] not in ['name_here','cid_here'],\\\n",
    "        f'Fill your {key} as a string.'\n",
    "\n",
    "for key in ['DOB-year', 'DOB-month','DOB-day']:\n",
    "    assert type(student[key]) is int, f'{key} is wrong type.'\n",
    "\n",
    "assert (student['DOB-year'] > 1900 and student['DOB-year'] < 2100)\n",
    "assert student['DOB-month'] in range(1,13), \\\n",
    "    'DOB month should be an integer in the range [1, 12]'\n",
    "assert student['DOB-day'] in range(1,32), \\\n",
    "    'DOB day should be an integer in the range [1, 31]'"
   ]
  },
  {
   "cell_type": "markdown",
   "metadata": {
    "deletable": false,
    "editable": false,
    "hidden": true,
    "nbgrader": {
     "cell_type": "markdown",
     "checksum": "8e21e909aaacb19cde0a49f423690276",
     "grade": false,
     "grade_id": "cell-6f99a2583f9fb27d",
     "locked": true,
     "schema_version": 3,
     "solution": false,
     "task": false
    }
   },
   "source": [
    "By changing the below boolean variable `student_self_assessment` to `True` you attest that:\n",
    "1. All handed in solutions were produced by yourself in the sense that you understand your solutions and should be able to explain and discuss them with a peer or with a teacher.\n",
    "2. That discussions with your peers are allowed, also concerning approaches to solve the problem sets, but that direct plagiarism is not allowed and that you must reach your own understanding of submitted solutions according to the definition in the previous point."
   ]
  },
  {
   "cell_type": "code",
   "execution_count": 3,
   "metadata": {
    "deletable": false,
    "hidden": true,
    "nbgrader": {
     "cell_type": "code",
     "checksum": "64a7020fd0e62e5b51ef4470ae1c797f",
     "grade": false,
     "grade_id": "student-self-assessment",
     "locked": false,
     "schema_version": 3,
     "solution": true,
     "task": false
    }
   },
   "outputs": [],
   "source": [
    "student_self_assessment = True\n"
   ]
  },
  {
   "cell_type": "code",
   "execution_count": 4,
   "metadata": {
    "deletable": false,
    "editable": false,
    "hidden": true,
    "nbgrader": {
     "cell_type": "code",
     "checksum": "d873afed15d2d3de2ef460d53fccf90f",
     "grade": true,
     "grade_id": "cell-795bedd2908899aa",
     "locked": true,
     "points": 0,
     "schema_version": 3,
     "solution": false,
     "task": false
    }
   },
   "outputs": [],
   "source": [
    "assert student_self_assessment == True, 'You must assert the individual solution statements.'"
   ]
  },
  {
   "cell_type": "markdown",
   "metadata": {},
   "source": [
    "# Problem Set 1\n",
    "## Extra problems\n",
    "### Learning from data [TIF285], Chalmers, Fall 2022\n",
    "\n",
    "Last revised: 20-Aug-2022 by Christian Forssén [christian.forssen@chalmers.se]"
   ]
  },
  {
   "cell_type": "code",
   "execution_count": 5,
   "metadata": {
    "deletable": false,
    "nbgrader": {
     "cell_type": "code",
     "checksum": "61603b6b71f80b2617bf90aaffea2bf6",
     "grade": false,
     "grade_id": "cell-30c16b2db381306f",
     "locked": false,
     "schema_version": 3,
     "solution": true,
     "task": false
    }
   },
   "outputs": [],
   "source": [
    "# import modules\n",
    "\n",
    "import sys\n",
    "import numpy as np\n",
    "import scipy as scipy\n",
    "import matplotlib.pyplot as plt\n",
    "import pandas as pd\n",
    "import sklearn as skl\n",
    "import emcee as emcee\n",
    "from sklearn.model_selection import cross_validate\n",
    "from sklearn.preprocessing import PolynomialFeatures\n",
    "from sklearn.pipeline import make_pipeline\n",
    "from sklearn.linear_model import LinearRegression"
   ]
  },
  {
   "cell_type": "markdown",
   "metadata": {},
   "source": [
    "## Problem 5 (extra)\n",
    "### (3 points)"
   ]
  },
  {
   "cell_type": "markdown",
   "metadata": {},
   "source": [
    "#### Reload the third dataset from Problem 3"
   ]
  },
  {
   "cell_type": "code",
   "execution_count": 6,
   "metadata": {
    "deletable": false,
    "editable": false,
    "nbgrader": {
     "cell_type": "code",
     "checksum": "b65699b26dc4d055770c8991d25a9d6e",
     "grade": false,
     "grade_id": "cell-9bbcc6d8d2e07690",
     "locked": true,
     "schema_version": 3,
     "solution": false,
     "task": false
    }
   },
   "outputs": [],
   "source": [
    "datafile = 'DataFiles/dataset3.dat'\n",
    "X, y = np.loadtxt(datafile, unpack=True)\n",
    "m = len(X)\n",
    "X = X.reshape(m,1); y = y.reshape(m,1)"
   ]
  },
  {
   "cell_type": "markdown",
   "metadata": {
    "deletable": false,
    "editable": false,
    "nbgrader": {
     "cell_type": "markdown",
     "checksum": "0863bc5e0649091e0f07c618d5ba415e",
     "grade": false,
     "grade_id": "cell-10862146b5aeebc1",
     "locked": true,
     "points": 3,
     "schema_version": 3,
     "solution": false,
     "task": true
    }
   },
   "source": [
    "#### Validation curves\n",
    "Create a validation curve for the polynomial model (for different degrees) where you plot the training score and the validation score as a function of the model complexity. \n",
    "- The model complexity is simply the degree of the polynomial.\n",
    "- Make sure to print (e.g. in the axis label) what \"score\" that is shown (remember that different measures are being used in the literature).\n",
    "- For the computation of training and validation scores you should use cross-validation which is more stable than the use of a single, random pair of training and validation sets.\n",
    "\n",
    "Question to ponder:\n",
    "- From this curve: Which order polynomial do you think was used when generating the data?\n",
    "\n",
    "*Hint:* `scikit-learn` has a function `validation_curve` that might be useful. It is instructive to implement the calculation of learning curves yourself, but it is not required for this task."
   ]
  },
  {
   "cell_type": "code",
   "execution_count": 7,
   "metadata": {
    "code_folding": [],
    "deletable": false,
    "nbgrader": {
     "cell_type": "code",
     "checksum": "5b7143d6e8baebac5a8c177116fabbfe",
     "grade": false,
     "grade_id": "cell-4c0faa3d3a1db40e",
     "locked": false,
     "schema_version": 3,
     "solution": true,
     "task": false
    }
   },
   "outputs": [],
   "source": [
    "def poli_reg(degree):\n",
    "    return make_pipeline(PolynomialFeatures(degree),LinearRegression())\n",
    "        \n",
    "\n",
    "complexity = [1,2,3,4,5,6,7,8,9,10]\n",
    "folds = 5\n",
    "train_matrix = np.zeros((len(complexity),2))\n",
    "val_matrix = np.zeros((len(complexity),2))\n",
    "\n",
    "for j in range(len(complexity)):\n",
    "    \n",
    "    kfold = cross_validate(poli_reg(degree=complexity[j]),\n",
    "                       X,\n",
    "                       y,\n",
    "                       cv=folds,\n",
    "                       scoring='neg_mean_squared_error',\n",
    "                       return_train_score=True)\n",
    "    \n",
    "    # train \n",
    "    train_median = np.median(kfold['train_score']*-1)\n",
    "    train_matrix[j,0] = train_median\n",
    "    \n",
    "    train_sigma = np.std(kfold['train_score']*-1)\n",
    "    train_matrix[j,1] = train_sigma\n",
    "    \n",
    "    # test \n",
    "    val_median = np.median(kfold['test_score']*-1)\n",
    "    val_matrix[j,0] = val_median\n",
    "    \n",
    "    val_sigma = np.std(kfold['test_score']*-1)\n",
    "    val_matrix[j,1] = val_sigma"
   ]
  },
  {
   "cell_type": "code",
   "execution_count": 8,
   "metadata": {
    "code_folding": [
     0
    ]
   },
   "outputs": [
    {
     "data": {
      "image/png": "[encoded data removed]",
      "text/plain": [
       "<Figure size 864x360 with 1 Axes>"
      ]
     },
     "metadata": {
      "needs_background": "light"
     },
     "output_type": "display_data"
    }
   ],
   "source": [
    "#Plot\n",
    "plt.figure(figsize=(12,5))\n",
    "plt.title(f'Median MSE of {str(folds)}-folds')\n",
    "plt.errorbar(complexity,train_matrix[:,0],train_matrix[:,1],label='Training')\n",
    "plt.errorbar(complexity,val_matrix[:,0],val_matrix[:,1],label='Validation')\n",
    "plt.legend()\n",
    "plt.xlabel('Complexity (polynomial degree)')\n",
    "plt.ylabel('Median MSE')\n",
    "plt.show()"
   ]
  },
  {
   "cell_type": "markdown",
   "metadata": {},
   "source": [
    "As we discussed in problem 3.b, adding the cross validation fixed our curves. Now the behaviour is what we expected: the training MSE keeps getting smaller while the validation MSE grows bigger. The size of the error bars also suggest that dataset 3 was the most noisy one.\n",
    "\n",
    "Finally, looking at the learning curve above it is highly probable that the polynomial used to generate the data had degree 3. After that, the reduction of the error is minimal and the validation MSE plateus before growing again."
   ]
  },
  {
   "cell_type": "markdown",
   "metadata": {},
   "source": [
    "## Problem 6 (extra)\n",
    "### (3 points)"
   ]
  },
  {
   "cell_type": "markdown",
   "metadata": {},
   "source": [
    "### Gradient descent methods"
   ]
  },
  {
   "cell_type": "markdown",
   "metadata": {},
   "source": [
    "#### Generate noisy data with a quadratic feature\n",
    "This is the same data as in Problem 2."
   ]
  },
  {
   "cell_type": "code",
   "execution_count": 9,
   "metadata": {
    "code_folding": [
     0
    ],
    "deletable": false,
    "editable": false,
    "nbgrader": {
     "cell_type": "code",
     "checksum": "11ea7d7ce7df7d4ead07c95cddf0219f",
     "grade": false,
     "grade_id": "cell-b8c83bd1b3a4a7e0",
     "locked": true,
     "schema_version": 3,
     "solution": false,
     "task": false
    }
   },
   "outputs": [],
   "source": [
    "# Generate noisy data with a quadratic feature\n",
    "# use the following code:\n",
    "np.random.seed(42)\n",
    "\n",
    "# X are picked uniform random [0,2]\n",
    "X = 2 * np.random.rand(100, 1)\n",
    "# Linear relation to the predicted value, but with Gaussian noise (mean=0, standard deviation=0.2)\n",
    "theta_true = [0.25, 1, 0.75]\n",
    "noise_std = 0.2\n",
    "y = theta_true[2] * X**2 + theta_true[1] * X + theta_true[0] \\\n",
    "+  np.random.normal(loc=0.0, scale=noise_std, size=(m,1))"
   ]
  },
  {
   "cell_type": "markdown",
   "metadata": {},
   "source": [
    "#### (a) Batch and stochastic gradient descent\n",
    "Implement both batch and stochastic gradient descent and use these methods to find the best fit parameters of a quadratic model. Make sure that you also save the convergence path, i.e., how the parameters change as a function of iteration number. Concerning batch gradient descent you can use the methods that you implemented in Problem 2 with relevant modifications.\n",
    "- You might want to tune the learning hyperparameter $\\eta$.\n",
    "- Do 50 epochs for the SGD (each epoch corresponding to using all instances of data once).\n",
    "- You can start from $\\theta=(0,0,0)$.\n",
    "- Compare with the solution from Problem 2."
   ]
  },
  {
   "cell_type": "code",
   "execution_count": 10,
   "metadata": {
    "code_folding": [
     0
    ]
   },
   "outputs": [],
   "source": [
    "def design_matrix(X, degree=2):    \n",
    "    X_d = np.zeros((X.shape[0],degree+1))\n",
    "    for i in range(0,degree+1):\n",
    "        X_d[:,i] = X[:,0]**i\n",
    "    return X_d"
   ]
  },
  {
   "cell_type": "code",
   "execution_count": 11,
   "metadata": {
    "code_folding": [
     0
    ],
    "deletable": false,
    "nbgrader": {
     "cell_type": "code",
     "checksum": "2b85105dadfb07f823fc99b3a9a026a9",
     "grade": false,
     "grade_id": "bgd",
     "locked": false,
     "schema_version": 3,
     "solution": true,
     "task": false
    }
   },
   "outputs": [],
   "source": [
    "# Implement BGD and use it to find the best-fit parameters\n",
    "#\n",
    "# At the end, the following array should contain the \n",
    "# best-fit parameters: \n",
    "# theta_0 (constant term), theta_1 (linear), theta_2 (quadratic)\n",
    "theta_bgd = np.array([0., 0., 0.]) # Note the order\n",
    "\n",
    "def bgd_gradient_descent(X_d,\n",
    "                         y,\n",
    "                         theta_start=theta_bgd, \n",
    "                         eta=0.1, \n",
    "                         epochs=50):\n",
    "    \n",
    "    convergence = np.zeros((epochs,len(theta_start)))\n",
    "    \n",
    "    thetas = theta_start.copy()\n",
    "    for epoch in range(epochs):\n",
    "        convergence[epoch,:]=thetas\n",
    "        y_hat = np.dot(X_d,thetas)\n",
    "        dJ = np.dot((y[:,0]-y_hat),X_d)*2/(len(y))\n",
    "        thetas += eta*dJ\n",
    "\n",
    "    return thetas, convergence"
   ]
  },
  {
   "cell_type": "code",
   "execution_count": 12,
   "metadata": {},
   "outputs": [],
   "source": [
    "theta_bgd, conv_bgd = bgd_gradient_descent(design_matrix(X),\n",
    "                                           y,\n",
    "                                           theta_start=theta_bgd, \n",
    "                                           eta=0.1, \n",
    "                                           epochs=50)"
   ]
  },
  {
   "cell_type": "code",
   "execution_count": 13,
   "metadata": {
    "code_folding": [
     0
    ],
    "deletable": false,
    "nbgrader": {
     "cell_type": "code",
     "checksum": "73ad5295fd60570971e6e54eed2ead47",
     "grade": false,
     "grade_id": "sgd",
     "locked": false,
     "schema_version": 3,
     "solution": true,
     "task": false
    }
   },
   "outputs": [],
   "source": [
    "# Implement SGD and use it to find the best-fit parameters\n",
    "#\n",
    "# At the end, the following array should contain the \n",
    "# best-fit parameters: \n",
    "# theta_0 (constant term), theta_1 (linear), theta_2 (quadratic)\n",
    "theta_sgd = np.array([0., 0., 0.]) # Note the order\n",
    "\n",
    "def sgd_gradient_descent(X_d,\n",
    "                         y,\n",
    "                         theta_start=theta_sgd, \n",
    "                         eta=0.001):\n",
    "    \n",
    "    convergence = np.zeros((X_d.shape[0],len(theta_start)))\n",
    "    \n",
    "    thetas = theta_start.copy()\n",
    "    for epoch in range(X_d.shape[0]):\n",
    "        convergence[epoch,:]=thetas\n",
    "        y_hat = np.array([np.dot(X_d[epoch,:],thetas)])\n",
    "        dJ = np.dot((y[epoch,0]-y_hat),np.array([X_d[epoch,:]]))*2\n",
    "        thetas += eta*dJ\n",
    "\n",
    "    return thetas, convergence"
   ]
  },
  {
   "cell_type": "code",
   "execution_count": 14,
   "metadata": {},
   "outputs": [],
   "source": [
    "theta_sgd, conv_sgd = sgd_gradient_descent(design_matrix(X),\n",
    "                                           y,\n",
    "                                           theta_start=theta_sgd, \n",
    "                                           eta=0.001)"
   ]
  },
  {
   "cell_type": "code",
   "execution_count": 15,
   "metadata": {
    "deletable": false,
    "editable": false,
    "nbgrader": {
     "cell_type": "code",
     "checksum": "4a38011e6c5704f73db630e9697d2be8",
     "grade": true,
     "grade_id": "correct_bgd_sgd",
     "locked": true,
     "points": 1,
     "schema_version": 3,
     "solution": false,
     "task": false
    }
   },
   "outputs": [],
   "source": [
    "assert theta_bgd.shape ==(3,)\n",
    "assert not (theta_bgd==0).any()\n",
    "assert theta_sgd.shape ==(3,)\n",
    "assert not (theta_sgd==0).any()\n"
   ]
  },
  {
   "cell_type": "code",
   "execution_count": 16,
   "metadata": {},
   "outputs": [
    {
     "data": {
      "text/plain": [
       "array([0.40313326, 0.61277524, 0.9214194 ])"
      ]
     },
     "execution_count": 16,
     "metadata": {},
     "output_type": "execute_result"
    }
   ],
   "source": [
    "theta_bgd"
   ]
  },
  {
   "cell_type": "code",
   "execution_count": 17,
   "metadata": {},
   "outputs": [
    {
     "data": {
      "text/plain": [
       "array([0.27313714, 0.36883586, 0.56781683])"
      ]
     },
     "execution_count": 17,
     "metadata": {},
     "output_type": "execute_result"
    }
   ],
   "source": [
    "theta_sgd"
   ]
  },
  {
   "cell_type": "code",
   "execution_count": 18,
   "metadata": {},
   "outputs": [
    {
     "data": {
      "text/plain": [
       "[0.36228054, 0.72777588, 0.86621274]"
      ]
     },
     "execution_count": 18,
     "metadata": {},
     "output_type": "execute_result"
    }
   ],
   "source": [
    "# From problem 2\n",
    "[0.36228054, 0.72777588, 0.86621274]"
   ]
  },
  {
   "cell_type": "markdown",
   "metadata": {},
   "source": [
    "The different values for the thetas we get fall in the same range with a fairly small difference between the methods. They also agree in the order of magnitud (and importance) of the constant, linear and quadratic components of the polynomial. This is, $\\theta_0 < \\theta_1 < \\theta_2$ for all methods."
   ]
  },
  {
   "cell_type": "markdown",
   "metadata": {},
   "source": [
    "#### (b) Mini-batch gradient descent\n",
    "Implement mini-batch gradient descent and use this method to find the best fit parameters. Details:\n",
    "- use a mini-batch size of 20%\n",
    "- perform 50 epochs \n",
    "- hint: the `numpy.random.permutation` function might be useful for creating the mini-batches. \n",
    "- Compare with the solutions from BGD and SGD."
   ]
  },
  {
   "cell_type": "code",
   "execution_count": 19,
   "metadata": {
    "deletable": false,
    "nbgrader": {
     "cell_type": "code",
     "checksum": "4667146537d278884f9a92df74d7fd65",
     "grade": false,
     "grade_id": "mbgd",
     "locked": false,
     "schema_version": 3,
     "solution": true,
     "task": false
    }
   },
   "outputs": [],
   "source": [
    "# Implement MBGD and use it to find the best-fit parameters\n",
    "#\n",
    "# At the end, the following array should contain the \n",
    "# best-fit parameters: \n",
    "# theta_0 (constant term), theta_1 (linear), theta_2 (quadratic)\n",
    "theta_mbgd = np.array([0., 0., 0.]) # Note the order\n",
    "\n",
    "def mbgd_gradient_descent(X_d,\n",
    "                         y,\n",
    "                         theta_start=theta_bgd, \n",
    "                         eta=0.1,\n",
    "                         minibatch_size=0.2,\n",
    "                         epochs=50):\n",
    "    \n",
    "    convergence = np.zeros((epochs,len(theta_start)))\n",
    "    \n",
    "    thetas = theta_start.copy()\n",
    "    for epoch in range(epochs):\n",
    "        convergence[epoch,:]=thetas\n",
    "        minibatch = np.random.choice(X_d.shape[0],round(X_d.shape[0]*minibatch_size))\n",
    "        y_hat = np.dot(X_d[minibatch,:],thetas)\n",
    "        dJ = np.dot((y[minibatch,0]-y_hat),X_d[minibatch,:])*2/(len(y[minibatch]))\n",
    "        thetas += eta*dJ\n",
    "\n",
    "    return thetas, convergence"
   ]
  },
  {
   "cell_type": "code",
   "execution_count": 20,
   "metadata": {},
   "outputs": [],
   "source": [
    "theta_mbgd, conv_mbgd = mbgd_gradient_descent(design_matrix(X),\n",
    "                                              y,\n",
    "                                              theta_start=theta_mbgd, \n",
    "                                              eta=0.1,\n",
    "                                              minibatch_size=0.2,\n",
    "                                              epochs=50)"
   ]
  },
  {
   "cell_type": "code",
   "execution_count": 21,
   "metadata": {
    "deletable": false,
    "editable": false,
    "nbgrader": {
     "cell_type": "code",
     "checksum": "5a209cb54e036d557dbf5558f08a836a",
     "grade": true,
     "grade_id": "correct_mbgd",
     "locked": true,
     "points": 1,
     "schema_version": 3,
     "solution": false,
     "task": false
    }
   },
   "outputs": [],
   "source": [
    "assert theta_mbgd.shape ==(3,)\n",
    "assert not (theta_mbgd==0).any()\n"
   ]
  },
  {
   "cell_type": "code",
   "execution_count": 22,
   "metadata": {},
   "outputs": [
    {
     "data": {
      "text/plain": [
       "array([0.40313326, 0.61277524, 0.9214194 ])"
      ]
     },
     "execution_count": 22,
     "metadata": {},
     "output_type": "execute_result"
    }
   ],
   "source": [
    "theta_bgd"
   ]
  },
  {
   "cell_type": "code",
   "execution_count": 23,
   "metadata": {},
   "outputs": [
    {
     "data": {
      "text/plain": [
       "array([0.27313714, 0.36883586, 0.56781683])"
      ]
     },
     "execution_count": 23,
     "metadata": {},
     "output_type": "execute_result"
    }
   ],
   "source": [
    "theta_sgd"
   ]
  },
  {
   "cell_type": "code",
   "execution_count": 24,
   "metadata": {},
   "outputs": [
    {
     "data": {
      "text/plain": [
       "array([0.42921488, 0.63981329, 0.90448902])"
      ]
     },
     "execution_count": 24,
     "metadata": {},
     "output_type": "execute_result"
    }
   ],
   "source": [
    "theta_mbgd"
   ]
  },
  {
   "cell_type": "markdown",
   "metadata": {},
   "source": [
    "As we had before, the different values for the thetas we get fall in the same range with a fairly small difference between the methods. They also agree in the order of magnitud (and importance) of the constant, linear and quadratic components of the polynomial. This is, $\\theta_0 < \\theta_1 < \\theta_2$ for all methods.\n",
    "\n",
    "As expected, minibatch and batch have similar results. This happens because both of them use bootstrapping to estimate the thetas, whereas stochastic gradient descent simply keeps adding corrections one datapoint at a time."
   ]
  },
  {
   "cell_type": "markdown",
   "metadata": {
    "deletable": false,
    "editable": false,
    "nbgrader": {
     "cell_type": "markdown",
     "checksum": "b3c145c55263fdc4ca46b64105070db0",
     "grade": false,
     "grade_id": "gd_convergence",
     "locked": true,
     "points": 1,
     "schema_version": 3,
     "solution": false,
     "task": true
    }
   },
   "source": [
    "#### (c) Convergence\n",
    "Compare the convergence pattern for the BGD, SGD and MGD, i.e. plot the path towards the optimal set of parameters. \n",
    "- You can start from $\\theta=(0,0,0)$ with all three GD algorithms.\n",
    "- Note that the path is in 3D (since there are three parameters in our quadratic model). You should plot the three different 2D projections of the path.\n",
    "- Indicate also the true optimum (as found by solving the normal equation)."
   ]
  },
  {
   "cell_type": "code",
   "execution_count": 25,
   "metadata": {},
   "outputs": [],
   "source": [
    "# Gotten from our previous work\n",
    "normaleq=[0.36228054, 0.72777588, 0.86621274]"
   ]
  },
  {
   "cell_type": "code",
   "execution_count": 26,
   "metadata": {
    "code_folding": [
     0
    ],
    "deletable": false,
    "nbgrader": {
     "cell_type": "code",
     "checksum": "0e0efe08e3dcb155147df8c8fe84fede",
     "grade": false,
     "grade_id": "cell-a0ed6a6e81042c13",
     "locked": false,
     "schema_version": 3,
     "solution": true,
     "task": false
    }
   },
   "outputs": [
    {
     "data": {
      "text/plain": [
       "Text(0, 0.5, '$\\\\theta_2$')"
      ]
     },
     "execution_count": 26,
     "metadata": {},
     "output_type": "execute_result"
    },
    {
     "data": {
      "image/png": "[encoded data removed]",
      "text/plain": [
       "<Figure size 1224x1296 with 9 Axes>"
      ]
     },
     "metadata": {
      "needs_background": "light"
     },
     "output_type": "display_data"
    }
   ],
   "source": [
    "# Convergence plot\n",
    "\n",
    "plt.figure(figsize=(17,18))\n",
    "\n",
    "# Minibatch\n",
    "ax = plt.subplot(3,3,1)\n",
    "ax.plot(conv_mbgd[:,0],conv_mbgd[:,1])\n",
    "ax.scatter(normaleq[0],normaleq[1],c='red')\n",
    "ax.set_xlim(0,0.5)\n",
    "ax.set_ylim(0,0.75)\n",
    "ax.set_xlabel(r'$\\theta_0$',fontsize=12)\n",
    "ax.set_ylabel(r'$\\theta_1$',fontsize=12)\n",
    "\n",
    "ax1 = plt.subplot(3,3,2)\n",
    "ax1.plot(conv_mbgd[:,0],conv_mbgd[:,2])\n",
    "ax1.scatter(normaleq[0],normaleq[2],c='red', label='Normal eq.')\n",
    "ax1.set_xlim(0,0.5)\n",
    "ax1.set_ylim(0,0.96)\n",
    "ax1.set_xlabel(r'$\\theta_0$',fontsize=12)\n",
    "ax1.set_ylabel(r'$\\theta_2$',fontsize=12)\n",
    "ax1.legend()\n",
    "ax1.set_title(\"Minibatch GD\",fontsize=17)\n",
    "\n",
    "ax2 = plt.subplot(3,3,3)\n",
    "ax2.plot(conv_mbgd[:,1],conv_mbgd[:,2])\n",
    "ax2.set_xlim(0,0.75)\n",
    "ax2.set_ylim(0,0.96)\n",
    "ax2.scatter(normaleq[1],normaleq[2],c='red')\n",
    "ax2.set_xlabel(r'$\\theta_1$',fontsize=12)\n",
    "ax2.set_ylabel(r'$\\theta_2$',fontsize=12)\n",
    "\n",
    "# Batch\n",
    "ax3 = plt.subplot(3,3,4)\n",
    "ax3.plot(conv_bgd[:,0],conv_bgd[:,1])\n",
    "ax3.set_xlim(0,0.5)\n",
    "ax3.set_ylim(0,0.75)\n",
    "ax3.scatter(normaleq[0],normaleq[1],c='red')\n",
    "ax3.set_xlabel(r'$\\theta_0$',fontsize=12)\n",
    "ax3.set_ylabel(r'$\\theta_1$',fontsize=12)\n",
    "\n",
    "\n",
    "ax4 = plt.subplot(3,3,5)\n",
    "ax4.plot(conv_bgd[:,0],conv_bgd[:,2])\n",
    "ax4.scatter(normaleq[0],normaleq[2],c='red', label='Normal eq.')\n",
    "ax4.set_xlim(0,0.5)\n",
    "ax4.set_ylim(0,0.96)\n",
    "ax4.set_xlabel(r'$\\theta_0$',fontsize=12)\n",
    "ax4.set_ylabel(r'$\\theta_2$',fontsize=12)\n",
    "ax4.set_title(\"Batch GD\",fontsize=17)\n",
    "ax4.legend(loc='upper left')\n",
    "\n",
    "ax5 = plt.subplot(3,3,6)\n",
    "ax5.plot(conv_bgd[:,1],conv_bgd[:,2])\n",
    "ax5.scatter(normaleq[1],normaleq[2],c='red')\n",
    "ax5.set_xlim(0,0.75)\n",
    "ax5.set_ylim(0,0.96)\n",
    "ax5.set_xlabel(r'$\\theta_1$',fontsize=12)\n",
    "ax5.set_ylabel(r'$\\theta_2$',fontsize=12)\n",
    "\n",
    "# Stochastic\n",
    "ax6 = plt.subplot(3,3,7)\n",
    "ax6.plot(conv_sgd[:,0],conv_sgd[:,1])\n",
    "ax6.set_xlim(0,0.5)\n",
    "ax6.set_ylim(0,0.75)\n",
    "ax6.scatter(normaleq[0],normaleq[1],c='red')\n",
    "ax6.set_xlabel(r'$\\theta_0$',fontsize=12)\n",
    "ax6.set_ylabel(r'$\\theta_1$',fontsize=12)\n",
    "\n",
    "\n",
    "ax7 = plt.subplot(3,3,8)\n",
    "ax7.plot(conv_sgd[:,0],conv_sgd[:,2])\n",
    "ax7.scatter(normaleq[0],normaleq[2],c='red', label='Normal eq.')\n",
    "ax7.set_xlim(0,0.5)\n",
    "ax7.set_ylim(0,0.96)\n",
    "ax7.set_xlabel(r'$\\theta_0$',fontsize=12)\n",
    "ax7.set_ylabel(r'$\\theta_2$',fontsize=12)\n",
    "ax7.set_title(\"Stochastic GD\",fontsize=17)\n",
    "ax7.legend(loc='upper left')\n",
    "\n",
    "ax8 = plt.subplot(3,3,9)\n",
    "ax8.plot(conv_sgd[:,1],conv_sgd[:,2])\n",
    "ax8.scatter(normaleq[1],normaleq[2],c='red')\n",
    "ax8.set_xlim(0,0.75)\n",
    "ax8.set_ylim(0,0.96)\n",
    "ax8.set_xlabel(r'$\\theta_1$',fontsize=12)\n",
    "ax8.set_ylabel(r'$\\theta_2$',fontsize=12)\n",
    "\n",
    "\n"
   ]
  }
 ],
 "metadata": {
  "@webio": {
   "lastCommId": null,
   "lastKernelId": null
  },
  "kernelspec": {
   "display_name": "Python 3",
   "language": "python",
   "name": "python3"
  },
  "language_info": {
   "codemirror_mode": {
    "name": "ipython",
    "version": 3
   },
   "file_extension": ".py",
   "mimetype": "text/x-python",
   "name": "python",
   "nbconvert_exporter": "python",
   "pygments_lexer": "ipython3",
   "version": "3.8.8"
  },
  "nav_menu": {},
  "toc": {
   "navigate_menu": true,
   "number_sections": true,
   "sideBar": true,
   "threshold": 6,
   "toc_cell": false,
   "toc_section_display": "block",
   "toc_window_display": false
  }
 },
 "nbformat": 4,
 "nbformat_minor": 1
}
