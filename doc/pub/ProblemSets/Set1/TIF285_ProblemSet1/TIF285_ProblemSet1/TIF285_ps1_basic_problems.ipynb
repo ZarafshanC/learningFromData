{
 "cells": [
  {
   "cell_type": "markdown",
   "metadata": {},
   "source": [
    "## Instructions\n",
    "- See deadline on the course web page\n",
    "- This problem set is performed individually. See examination rules on the course web page.\n",
    "- Students are allowed to discuss together and help each other when solving the problems. However, every student must understand and be able to explain his/her submitted solution. Plagiarism is not allowed (submissions will be both manually and automatically monitored).\n",
    "- The two notebooks for each problem set contain a number of basic and extra problems; you can choose which and how many to work on.\n",
    "- Many problems are automatically graded using `assert` statements. You should check that your code passes these statements without raising an `AssertionError`. Note that there might be additional, hidden tests that must be passed for full credit. In addition, some tasks are either completely manually graded or part-automatic/part-manual.\n",
    "- Note that grading is performed in the teacher's python environment, which is based on the conda `environment.yml` file in the course github repo. Please avoid using additional python modules (such as `plotly`) as this might cause automatic tests to fail.\n",
    "\n",
    "- **Important:** Hand-in is performed through the following actions:\n",
    "  - Make sure to always complete **Task 0** in the header part of the notebook and that this part does not raise any `AssertionError`(s). \n",
    "  - Upload your solution in the form of your edited version of this jupyter notebook via the appropriate module in Canvas.\n",
    "  - The name of the uploaded file **must be the same as the original one**!\n",
    "  \n",
    "  Note that the hand-in might not be automatically graded if you have changed the name of the uploaded file."
   ]
  },
  {
   "cell_type": "markdown",
   "metadata": {},
   "source": [
    "- Before you turn this problem in, make sure everything runs as expected. First, **restart the kernel** (in the menubar, select Kernel$\\rightarrow$Restart) and then **run all cells** (in the menubar, select Cell$\\rightarrow$Run All).\n",
    "\n",
    "- Make sure that the **run time is smaller than a few minutes**. If needed you might have to reduce some computational tasks; e.g. by decreasing the number of grid points or sampling steps. Please ask the supervisors if you are uncertain about the run time. \n",
    "\n",
    "- Your solutions are usually expected where it says `YOUR CODE HERE` or <font color=\"red\">\"PLEASE WRITE YOUR ANSWER HERE\"</font>."
   ]
  },
  {
   "cell_type": "markdown",
   "metadata": {},
   "source": [
    "### Task 0 \n",
    "#### (0 points)\n",
    "Fill your personal details in the dictionary 'student' with the following key/value pairs:\n",
    "- **Lastname**: Your lastname as a string\n",
    "- **Firstname**: Your firstname as a string\n",
    "- **DOB-year**: The year for your date of birth as a four-digit integer\n",
    "- **DOB-month**: The month for your date of birth as an integer (1-12)\n",
    "- **DOB-day**: The year for your date of birth as an integer (1-31)\n",
    "- **CID**: Your Chalmers login ID as a string"
   ]
  },
  {
   "cell_type": "code",
   "execution_count": 1,
   "metadata": {
    "deletable": false,
    "nbgrader": {
     "cell_type": "code",
     "checksum": "e4b41fd8e57932c927ede3a155032c98",
     "grade": false,
     "grade_id": "student_info",
     "locked": false,
     "schema_version": 3,
     "solution": true,
     "task": false
    }
   },
   "outputs": [
    {
     "data": {
      "text/plain": [
       "{'Lastname': 'Lozada',\n",
       " 'Firstname': 'Alejandro',\n",
       " 'CID': 'lozadaa',\n",
       " 'DOB-year': 1997,\n",
       " 'DOB-month': 4,\n",
       " 'DOB-day': 17}"
      ]
     },
     "execution_count": 1,
     "metadata": {},
     "output_type": "execute_result"
    }
   ],
   "source": [
    "student={}\n",
    "# Update the values below. Note the formats.\n",
    "student['Lastname']='Lozada'  # string\n",
    "student['Firstname']='Alejandro' # string\n",
    "student['CID']='lozadaa'        # string\n",
    "student['DOB-year']=1997         # four-digit integer\n",
    "student['DOB-month']=4           # integer in the range [1, 12]\n",
    "student['DOB-day']=17             # integer in the range [1, 31]\n",
    "\n",
    "student"
   ]
  },
  {
   "cell_type": "code",
   "execution_count": 2,
   "metadata": {
    "deletable": false,
    "editable": false,
    "nbgrader": {
     "cell_type": "code",
     "checksum": "04fad85b593dac43e9a577b7ad0eda92",
     "grade": true,
     "grade_id": "correct_student_info",
     "locked": true,
     "points": 0,
     "schema_version": 3,
     "solution": false,
     "task": false
    }
   },
   "outputs": [],
   "source": [
    "for key in ['Lastname', 'Firstname','CID']:\n",
    "    assert type(student[key]) is str, f'{key} is wrong type.'\n",
    "    assert student[key] not in ['name_here','cid_here'],\\\n",
    "        f'Fill your {key} as a string.'\n",
    "\n",
    "for key in ['DOB-year', 'DOB-month','DOB-day']:\n",
    "    assert type(student[key]) is int, f'{key} is wrong type.'\n",
    "\n",
    "assert (student['DOB-year'] > 1900 and student['DOB-year'] < 2100)\n",
    "assert student['DOB-month'] in range(1,13), \\\n",
    "    'DOB month should be an integer in the range [1, 12]'\n",
    "assert student['DOB-day'] in range(1,32), \\\n",
    "    'DOB day should be an integer in the range [1, 31]'"
   ]
  },
  {
   "cell_type": "markdown",
   "metadata": {
    "deletable": false,
    "editable": false,
    "nbgrader": {
     "cell_type": "markdown",
     "checksum": "8e21e909aaacb19cde0a49f423690276",
     "grade": false,
     "grade_id": "cell-6f99a2583f9fb27d",
     "locked": true,
     "schema_version": 3,
     "solution": false,
     "task": false
    }
   },
   "source": [
    "By changing the below boolean variable `student_self_assessment` to `True` you attest that:\n",
    "1. All handed in solutions were produced by yourself in the sense that you understand your solutions and should be able to explain and discuss them with a peer or with a teacher.\n",
    "2. That discussions with your peers are allowed, also concerning approaches to solve the problem sets, but that direct plagiarism is not allowed and that you must reach your own understanding of submitted solutions according to the definition in the previous point."
   ]
  },
  {
   "cell_type": "code",
   "execution_count": 3,
   "metadata": {
    "deletable": false,
    "nbgrader": {
     "cell_type": "code",
     "checksum": "64a7020fd0e62e5b51ef4470ae1c797f",
     "grade": false,
     "grade_id": "student-self-assessment",
     "locked": false,
     "schema_version": 3,
     "solution": true,
     "task": false
    }
   },
   "outputs": [
    {
     "data": {
      "text/plain": [
       "True"
      ]
     },
     "execution_count": 3,
     "metadata": {},
     "output_type": "execute_result"
    }
   ],
   "source": [
    "student_self_assessment = True\n",
    "\n",
    "student_self_assessment"
   ]
  },
  {
   "cell_type": "code",
   "execution_count": 4,
   "metadata": {
    "deletable": false,
    "editable": false,
    "nbgrader": {
     "cell_type": "code",
     "checksum": "d873afed15d2d3de2ef460d53fccf90f",
     "grade": true,
     "grade_id": "cell-795bedd2908899aa",
     "locked": true,
     "points": 0,
     "schema_version": 3,
     "solution": false,
     "task": false
    }
   },
   "outputs": [],
   "source": [
    "assert student_self_assessment == True, 'You must assert the individual solution statements.'"
   ]
  },
  {
   "cell_type": "markdown",
   "metadata": {},
   "source": [
    "# Problem Set 1\n",
    "## Basic problems\n",
    "### Learning from data [TIF285], Chalmers, Fall 2022\n",
    "\n",
    "Last revised: 21-Aug-2022 by Christian Forssen [christian.forssen@chalmers.se]"
   ]
  },
  {
   "cell_type": "markdown",
   "metadata": {},
   "source": [
    "## Problem 1\n",
    "### (1 point)"
   ]
  },
  {
   "cell_type": "markdown",
   "metadata": {},
   "source": [
    "#### Installations\n",
    "Perform the installations and preparations that are described in the Getting Started instructions. At the end you should have:\n",
    "\n",
    "1. downloaded the current version of the course material from the github repository or from the course web page;\n",
    "2. a running python installation that includes the modules listed in the environment.yml file (e.g. numpy, matplotlib, pandas, emcee, scikit-learn, ...);\n",
    "3. been able to open and run the Jupyter Notebooks with the first week excercises.\n",
    "Ask the computer lab supervisors for assistance if needed."
   ]
  },
  {
   "cell_type": "code",
   "execution_count": 5,
   "metadata": {
    "deletable": false,
    "nbgrader": {
     "cell_type": "code",
     "checksum": "9704f3e29d2d73008989e3a259d9a77d",
     "grade": false,
     "grade_id": "import",
     "locked": false,
     "schema_version": 3,
     "solution": true,
     "task": false
    }
   },
   "outputs": [],
   "source": [
    "# Module needed for grading tests\n",
    "import sys\n",
    "\n",
    "# Make sure that you are running python with version >= 3.x\n",
    "#\n",
    "# Import the following python modules with\n",
    "# the specified abreviations:\n",
    "# ---\n",
    "# numpy as np\n",
    "# scipy as scipy\n",
    "# matplotlib.pyplot as plt\n",
    "# pandas as pd\n",
    "# sklearn as skl\n",
    "# emcee as emcee\n",
    "\n",
    "\n",
    "import numpy as np\n",
    "import scipy as scipy\n",
    "import matplotlib.pyplot as plt\n",
    "import pandas as pd\n",
    "import sklearn as skl\n",
    "import emcee as emcee"
   ]
  },
  {
   "cell_type": "code",
   "execution_count": 6,
   "metadata": {
    "deletable": false,
    "editable": false,
    "nbgrader": {
     "cell_type": "code",
     "checksum": "bfee420a6338ea59afc21a227ee18577",
     "grade": true,
     "grade_id": "correct_import",
     "locked": true,
     "points": 1,
     "schema_version": 3,
     "solution": false,
     "task": false
    }
   },
   "outputs": [],
   "source": [
    "assert sys.version_info.major>=3, \\\n",
    "    'You are running Python version'+\\\n",
    "    f'{sys.version_info.major}.{sys.version_info.minor}'\n",
    "\n",
    "modules = [('numpy','np'), ('scipy', 'scipy'), \\\n",
    "           ('matplotlib.pyplot', 'plt'), ('pandas', 'pd'), \\\n",
    "           ('sklearn', 'skl'), ('emcee', 'emcee')]\n",
    "for (_module, _module_abbrev) in modules:\n",
    "    assert _module in sys.modules and _module_abbrev in dir(),\\\n",
    "        f'Module {_module} not loaded properly.'"
   ]
  },
  {
   "cell_type": "markdown",
   "metadata": {},
   "source": [
    "## Problem 2\n",
    "### (3 points)"
   ]
  },
  {
   "cell_type": "markdown",
   "metadata": {},
   "source": [
    "#### Generate data"
   ]
  },
  {
   "cell_type": "code",
   "execution_count": 7,
   "metadata": {
    "deletable": false,
    "editable": false,
    "nbgrader": {
     "cell_type": "code",
     "checksum": "129deff69757199c7629130563a5cc35",
     "grade": false,
     "grade_id": "cell-a0b708936a108258",
     "locked": true,
     "schema_version": 3,
     "solution": false,
     "task": false
    }
   },
   "outputs": [],
   "source": [
    "# Generate noisy data with a quadratic feature\n",
    "# use the following code:\n",
    "np.random.seed(42)\n",
    "m = 100 # Number of data\n",
    "\n",
    "# X are picked uniform random [0,2]\n",
    "X = 2 * np.random.rand(m, 1)\n",
    "# Linear relation to the predicted value, but with Gaussian noise (mean=0, standard deviation=0.2)\n",
    "theta_true = [0.25, 1, 0.75]\n",
    "noise_std = 0.2\n",
    "y = theta_true[2] * X**2 + theta_true[1] * X + theta_true[0] +  np.random.normal(loc=0.0, scale=noise_std, size=(m,1))"
   ]
  },
  {
   "cell_type": "markdown",
   "metadata": {},
   "source": [
    "#### (a) Perform a linear regression using the Normal Equation\n",
    "Create the design matrix for a quadratic polynomial and solve the normal equation using matrix inversion."
   ]
  },
  {
   "cell_type": "code",
   "execution_count": 8,
   "metadata": {
    "deletable": false,
    "nbgrader": {
     "cell_type": "code",
     "checksum": "f281da58c59dffe144d18c64b30cf347",
     "grade": false,
     "grade_id": "design_matrix",
     "locked": false,
     "schema_version": 3,
     "solution": true,
     "task": false
    }
   },
   "outputs": [],
   "source": [
    "def design_matrix(X, degree=2):\n",
    "    \"\"\"\n",
    "    Returns a design matrix.\n",
    "    \n",
    "    Args:\n",
    "        X: Array of shape (m,1) with 'm' independent data.\n",
    "        degree: Integer with the degree of the polynomial. \n",
    "                  Note that a degree-n polynomial has n+1 coefficients.\n",
    "                  \n",
    "    Returns:\n",
    "        X_d: Design matrix of shape (m, order+1).\n",
    "    \"\"\"\n",
    "    \n",
    "    X_d = np.zeros((X.shape[0],degree+1))\n",
    "    for i in range(0,degree+1):\n",
    "        X_d[:,i] = X[:,0]**i\n",
    "    return X_d"
   ]
  },
  {
   "cell_type": "code",
   "execution_count": 9,
   "metadata": {
    "deletable": false,
    "editable": false,
    "nbgrader": {
     "cell_type": "code",
     "checksum": "a2bf96c872bc417abf01f99b35e81db2",
     "grade": true,
     "grade_id": "correct_design_matrix",
     "locked": true,
     "points": 1,
     "schema_version": 3,
     "solution": false,
     "task": false
    }
   },
   "outputs": [],
   "source": [
    "assert design_matrix(X).shape == (len(X),3)\n",
    "assert design_matrix(X)[:,0].all() == 1\n",
    "assert design_matrix(X)[0,1] == X[0]\n",
    "assert design_matrix(X)[0,2] == X[0]**2"
   ]
  },
  {
   "cell_type": "code",
   "execution_count": 10,
   "metadata": {
    "deletable": false,
    "nbgrader": {
     "cell_type": "code",
     "checksum": "350da970376594885f058c64685baf17",
     "grade": false,
     "grade_id": "solve_normal_equation",
     "locked": false,
     "schema_version": 3,
     "solution": true,
     "task": false
    }
   },
   "outputs": [],
   "source": [
    "def solve_normal_equation(X_d, y):\n",
    "    \"\"\"\n",
    "    Solve the normal equation.\n",
    "    \n",
    "    Args:\n",
    "        X_d: Design matrix of shape (m,n) with 'm' independent data\n",
    "               and 'n' features.\n",
    "        y: Dependent data of shape (m,1).\n",
    "                  \n",
    "    Returns:\n",
    "        theta_best: Best parameters, array of shape (n,).\n",
    "    \"\"\"\n",
    "    A = X_d.copy()\n",
    "    theta_best = np.matmul(np.matmul(np.linalg.inv(np.matmul(A.T, A)),A.T),y)[:,0]\n",
    "    return theta_best"
   ]
  },
  {
   "cell_type": "code",
   "execution_count": 11,
   "metadata": {
    "deletable": false,
    "editable": false,
    "nbgrader": {
     "cell_type": "code",
     "checksum": "11d49538f2f7f24f13547de02af90999",
     "grade": true,
     "grade_id": "correct_solve_normal_equation",
     "locked": true,
     "points": 1,
     "schema_version": 3,
     "solution": false,
     "task": false
    }
   },
   "outputs": [],
   "source": [
    "assert (solve_normal_equation(design_matrix(X), y)).shape==(3,),\\\n",
    "    'Return object has wrong shape. Maybe the `flatten` method will be useful?'"
   ]
  },
  {
   "cell_type": "markdown",
   "metadata": {},
   "source": [
    "#### (b) Gradient descent: \n",
    "Gradient descent optimization is not really needed for linear regression since we can solve the normal equation exactly. However, it is instructive to implement it yourself and to be able to compare with a known solution.\n",
    "- Define a function to perform gradient descent optimization on the batch of data $(\\boldsymbol{X},\\boldsymbol{y})$ (see further instructions in the code cell).\n",
    "- Print and compare the coefficients from (i) the true polynomial data generator and the linear regression fits to the (noisy) data using (ii) the exact solution to the normal equation and (iii) the result of the gradient descent optimization. \n",
    "- Plot the data and the model predictions in the same figure."
   ]
  },
  {
   "cell_type": "code",
   "execution_count": 46,
   "metadata": {
    "code_folding": [],
    "deletable": false,
    "nbgrader": {
     "cell_type": "code",
     "checksum": "7a692178b37bed33f69931aeee313cea",
     "grade": false,
     "grade_id": "gradient_descent_function",
     "locked": false,
     "schema_version": 3,
     "solution": true,
     "task": false
    }
   },
   "outputs": [],
   "source": [
    "def gradient_descent_linear_regression(X_d, y, theta_start, eta=0.1, n_iterations=1000):\n",
    "    \"\"\"\n",
    "    Find optimized parameters in linear regression using (batch) gradient descent.\n",
    "    \n",
    "    Args:\n",
    "        X_d: Design matrix of shape (m,n) with 'm' independent data\n",
    "               and 'n' features (ndarray).\n",
    "        y: Dependent data of size m (ndarray).\n",
    "        theta_start: List-like initial guess for parameters (size n) \n",
    "        eta: learning rate (default 0.1) (float)\n",
    "        n_iterations: Number of iterations (epochs) (default 1000) (integer)\n",
    "                  \n",
    "    Returns:\n",
    "        theta_optimum: Optimized parameters, array of shape (n,).\n",
    "    \"\"\"\n",
    "    (m,n) = X_d.shape\n",
    "    assert len(y)==m, f'The size of y must be {m}. It is: {len(y)}.'\n",
    "    y = y.reshape(-1,1) # Turn into a (m,1) array.\n",
    "    assert len(theta_start)==n, f'The initial guess must be of size {n}. It is: {len(theta_start)}.'\n",
    "    \n",
    "    thetas = theta_start.copy()\n",
    "\n",
    "    for steps in range(n_iterations):\n",
    "        y_hat = np.matmul(X_d,thetas)\n",
    "        delta_y = y[:,0]-y_hat\n",
    "        delta_theta = (eta/m)*np.matmul(delta_y.T,X_d).T\n",
    "        thetas += delta_theta\n",
    "\n",
    "    return thetas"
   ]
  },
  {
   "cell_type": "code",
   "execution_count": 47,
   "metadata": {
    "deletable": false,
    "editable": false,
    "nbgrader": {
     "cell_type": "code",
     "checksum": "62bdf52575dd1b9c313d1e280a8a45ab",
     "grade": true,
     "grade_id": "correct_gradient_descent_function",
     "locked": true,
     "points": 1,
     "schema_version": 3,
     "solution": false,
     "task": false
    }
   },
   "outputs": [],
   "source": [
    "assert (gradient_descent_linear_regression(design_matrix(X), y,[0,0,0],n_iterations=1)).shape==(3,),\\\n",
    "    'Return object has wrong shape. Maybe the `flatten` method will be useful?'"
   ]
  },
  {
   "cell_type": "code",
   "execution_count": 48,
   "metadata": {
    "code_folding": [],
    "deletable": false,
    "nbgrader": {
     "cell_type": "code",
     "checksum": "13c808e3529e3b1b30157fc5f79b1cc6",
     "grade": false,
     "grade_id": "cell-fbd1f3bdda876913",
     "locked": false,
     "schema_version": 3,
     "solution": true,
     "task": false
    }
   },
   "outputs": [
    {
     "name": "stdout",
     "output_type": "stream",
     "text": [
      " Grad desc: [0.34174871 0.78643618 0.83790148]\n",
      " Normal eq: [0.36228054 0.72777588 0.86621274]\n",
      " True: [0.25, 1, 0.75]\n"
     ]
    }
   ],
   "source": [
    "# 1. Print and compare the coefficients from the true data generator, the solution of the normal equation, \n",
    "# and the optimum from gradient descent.\n",
    "\n",
    "np.random.seed(seed=1)\n",
    "thetas = gradient_descent_linear_regression(design_matrix(X), y, theta_start=np.random.random((3,)), eta=0.1, n_iterations=1000)\n",
    "\n",
    "print(f' Grad desc: {str(thetas)}\\n', f'Normal eq: {str(solve_normal_equation(design_matrix(X), y))}\\n',f'True: {str(theta_true)}')\n",
    "   "
   ]
  },
  {
   "cell_type": "code",
   "execution_count": 49,
   "metadata": {
    "code_folding": [
     0
    ]
   },
   "outputs": [
    {
     "data": {
      "text/plain": [
       "<matplotlib.legend.Legend at 0x29b675c55e0>"
      ]
     },
     "execution_count": 49,
     "metadata": {},
     "output_type": "execute_result"
    },
    {
     "data": {
      "image/png": "[encoded data removed]",
      "text/plain": [
       "<Figure size 720x648 with 1 Axes>"
      ]
     },
     "metadata": {
      "needs_background": "light"
     },
     "output_type": "display_data"
    }
   ],
   "source": [
    "# 2. Plot the data, the true model and the fit model predictions in the same figure.\n",
    "y_true = theta_true[2] * X**2 + theta_true[1] * X + theta_true[0]\n",
    "\n",
    "theta_normal = solve_normal_equation(design_matrix(X), y)\n",
    "y_normal = theta_normal[2] * X**2 + theta_normal[1] * X + theta_normal[0]\n",
    "\n",
    "y_graddesc = thetas[2] * X**2 + thetas[1] * X + thetas[0]\n",
    "\n",
    "plt.figure(figsize=(10,9))\n",
    "plt.scatter(np.sort(X[:,0]),np.sort(y[:,0]),label='Data',alpha=0.5,s=19)\n",
    "plt.plot(np.sort(X[:,0]),np.sort(y_true[:,0]),label='True model',alpha=0.9,c='red')\n",
    "plt.plot(np.sort(X[:,0]),np.sort(y_normal[:,0]),label='Normal equation',alpha=0.9,c='black')\n",
    "plt.plot(np.sort(X[:,0]),np.sort(y_graddesc[:,0]),label='Gradient descent',alpha=0.9,c='orange')\n",
    "plt.legend(fontsize=15)\n"
   ]
  },
  {
   "cell_type": "markdown",
   "metadata": {},
   "source": [
    "## Problem 3\n",
    "### (3 points)"
   ]
  },
  {
   "cell_type": "markdown",
   "metadata": {
    "deletable": false,
    "editable": false,
    "nbgrader": {
     "cell_type": "markdown",
     "checksum": "5f523cfadaae0a17a63fbf834241101f",
     "grade": false,
     "grade_id": "cell-ad4ec88c445cd30c",
     "locked": true,
     "schema_version": 3,
     "solution": false,
     "task": false
    }
   },
   "source": [
    "There are three files in the directory `DataFiles`:\n",
    "- `dataset1.dat`\n",
    "- `dataset2.dat`\n",
    "- `dataset3.dat`\n",
    "\n",
    "Each data files contains two columns. The first column corresponds to the independent variables (the array X), and the second column corresponds to the dependent ones (the array y)."
   ]
  },
  {
   "cell_type": "code",
   "execution_count": 50,
   "metadata": {
    "deletable": false,
    "nbgrader": {
     "cell_type": "code",
     "checksum": "0d584424c8353dc56c19697cb4b0f7e7",
     "grade": false,
     "grade_id": "cell-a51f823aed196b24",
     "locked": false,
     "schema_version": 3,
     "solution": true,
     "task": false
    }
   },
   "outputs": [],
   "source": [
    "# This cell is used in the solution notebook to generate the data. \n",
    "# It is hidden in the student version.\n",
    "# \n",
    "# Please ignore the comment in this cell that says \"YOUR CODE HERE\". It gets added automatically.\n",
    "# No solution code is needed here.\n",
    "# ---\n",
    "# \n",
    "# YOUR CODE HERE\n",
    "# "
   ]
  },
  {
   "cell_type": "markdown",
   "metadata": {
    "deletable": false,
    "editable": false,
    "nbgrader": {
     "cell_type": "markdown",
     "checksum": "b56bb640833e47b3f518fce9c0008b4a",
     "grade": false,
     "grade_id": "cell-5f84c9fa34a2552c",
     "locked": true,
     "schema_version": 3,
     "solution": false,
     "task": false
    }
   },
   "source": [
    "#### (a) Implement linear regression and cost function\n",
    "- Load a data set and split it into 60% training and 40% validation data using the python function below.\n",
    "- Implement a linear regression function that takes training data as input and returns a best-fit parameter vector for a polynomial model of a specified degree.\n",
    "- Implement a cost function that takes data and model parameters as input and returns the mean-squared error."
   ]
  },
  {
   "cell_type": "code",
   "execution_count": 51,
   "metadata": {
    "code_folding": [
     3
    ],
    "deletable": false,
    "editable": false,
    "nbgrader": {
     "cell_type": "code",
     "checksum": "b886fccdb06f514ef4e964cc065d9dc2",
     "grade": false,
     "grade_id": "cell-a53c70d002ece548",
     "locked": true,
     "schema_version": 3,
     "solution": false,
     "task": false
    }
   },
   "outputs": [],
   "source": [
    "# built-in convenience function for splitting data\n",
    "from sklearn.model_selection import train_test_split\n",
    "\n",
    "def load_data(datafile, train_size=0.6):\n",
    "    \"\"\"\n",
    "    Reads data from file and returns training and validation sets.\n",
    "    \n",
    "    Args:\n",
    "        datafile: String with data filename path. The data file \n",
    "            should contain two columns: x, y\n",
    "        train_size: float indicating the fraction of training data\n",
    "            (default: 0.6)\n",
    "            \n",
    "    Returns:\n",
    "        (X_train, X_val, y_train, y_val): Tuple with four arrays \n",
    "            with training and validation data.\n",
    "    \"\"\"\n",
    "    X, y = np.loadtxt(datafile, unpack=True)\n",
    "    m = len(X)\n",
    "    X = X.reshape(m,1); y = y.reshape(m,1)\n",
    "\n",
    "    X_train, X_val, y_train, y_val = \\\n",
    "        train_test_split(X, y, train_size=train_size, random_state=42)\n",
    "    return (X_train, X_val, y_train, y_val)"
   ]
  },
  {
   "cell_type": "code",
   "execution_count": 52,
   "metadata": {
    "code_folding": [],
    "deletable": false,
    "nbgrader": {
     "cell_type": "code",
     "checksum": "5efdb5f19bfa224686f5f393f22e0fca",
     "grade": false,
     "grade_id": "cell-aa16bd9e1a61d370",
     "locked": false,
     "schema_version": 3,
     "solution": true,
     "task": false
    }
   },
   "outputs": [],
   "source": [
    "# Implement a linear regression function that takes \n",
    "# training data as input and returns a best-fit parameter \n",
    "# vector for a polynomial model of a specified degree.\n",
    "def linear_regression(X, y, degree=2):\n",
    "    \"\"\"\n",
    "    Performs linear regression for a polynomial model.\n",
    "    \n",
    "    Args:\n",
    "        X: Array of shape (m,1) with 'm' independent data.\n",
    "        y: Array of shape (m,1) with 'm' dependent data.\n",
    "        degree: Integer with the degree of the polynomial. \n",
    "                  Note that a degree-n polynomial has n+1 coefficients.\n",
    "                  \n",
    "    Returns:\n",
    "        theta_fit: Best fit parameters. Array of shape (degree+1,)\n",
    "    \"\"\"\n",
    "    # I'm using the not optimized method when there's no convergence problem. Starting points or huge fits, as my method involves heavy\n",
    "    # matrix multiplications, I'll switch to numpy's poly fit (which is vastly optimized). Results between methods should be \n",
    "    # equal.\n",
    "    thetas = np.polyfit(X[:,0],y[:,0],degree)[::-1]\n",
    "        \n",
    "    return thetas"
   ]
  },
  {
   "cell_type": "code",
   "execution_count": 53,
   "metadata": {
    "code_folding": [],
    "deletable": false,
    "editable": false,
    "nbgrader": {
     "cell_type": "code",
     "checksum": "feb6351086a34c9eb4995783ce84090a",
     "grade": true,
     "grade_id": "cell-b26c3f6a60009e39",
     "locked": true,
     "points": 1,
     "schema_version": 3,
     "solution": false,
     "task": false
    }
   },
   "outputs": [],
   "source": [
    "datafile = 'DataFiles/dataset1.dat'\n",
    "(X_train, X_val, y_train, y_val) = load_data(datafile)\n",
    "assert len(linear_regression(X_train, y_train, degree=3))==4\n",
    "a0_degree3fit_residual = \\\n",
    "    linear_regression(X_train, y_train, degree=3)[0] - 0.04772979\n",
    "assert abs(a0_degree3fit_residual) < 1e-5\n"
   ]
  },
  {
   "cell_type": "code",
   "execution_count": 54,
   "metadata": {
    "code_folding": [
     0
    ],
    "deletable": false,
    "nbgrader": {
     "cell_type": "code",
     "checksum": "3d6e7a52e9f29ba4f3d25fe3a4e48b7e",
     "grade": false,
     "grade_id": "MSE",
     "locked": false,
     "schema_version": 3,
     "solution": true,
     "task": false
    }
   },
   "outputs": [],
   "source": [
    "# Implement a cost function that takes data and polynomial model \n",
    "# parameters as input and returns the mean-squared error.\n",
    "def mean_squared_error(X, y, theta):\n",
    "    \"\"\"\n",
    "    Compute the mean-squared error for data and a polynomial fit.\n",
    "    \n",
    "    Args:\n",
    "        X: Array of shape (m,1) with 'm' independent data.\n",
    "        y: Array of shape (m,1) with 'm' dependent data.\n",
    "        theta: Parameter array [shape (degree+1,)]. \n",
    "            The ordering corresponds to the constant term first.\n",
    "            \n",
    "    Return:\n",
    "        MSE (float): Mean-squared error defined as\n",
    "            MSE = (1/m) * sum_i (y[i] - y_model[i])**2,\n",
    "            where y_model[i] = \\sum_m theta[m]*X[i]**m \n",
    "    \"\"\"\n",
    "    y_hat = np.matmul(design_matrix(X, degree=len(theta)-1),theta)\n",
    "    delta_y = y[:,0]-y_hat\n",
    "    mse = sum(delta_y**2)/X.shape[0]\n",
    "    return mse\n"
   ]
  },
  {
   "cell_type": "code",
   "execution_count": 55,
   "metadata": {
    "code_folding": [
     0
    ],
    "deletable": false,
    "nbgrader": {
     "cell_type": "code",
     "checksum": "4a6be1ce3357a1ab1bc035c4f7d1079b",
     "grade": false,
     "grade_id": "polynomial_regression",
     "locked": false,
     "schema_version": 3,
     "solution": true,
     "task": false
    }
   },
   "outputs": [],
   "source": [
    "# Implement a function that takes data and polynomial model degree\n",
    "# and returns the mean-squared error for both training and validation data\n",
    "# as well as the best fit parameters.\n",
    "def polynomial_regression( data, degree):\n",
    "    \"\"\"\n",
    "    Compute the mean-squared error for data and a polynomial fit.\n",
    "    \n",
    "    Args:\n",
    "        data = (X_train, X_val, y_train, y_val): Tuple with four arrays \n",
    "            with training and validation data.\n",
    "        degree: Integer with the degree of the polynomial. \n",
    "                  Note that a degree-n polynomial has n+1 coefficients.\n",
    "            \n",
    "    Return:\n",
    "        MSE_train: Mean-squared error of training data\n",
    "        MSE_val: Mean-squared error of validation data\n",
    "        theta_fit: Best fit parameters [array of shape (degree+1,)]\n",
    "    \"\"\"\n",
    "    train_fit = linear_regression(data[0], data[2], degree=degree)\n",
    "    \n",
    "    MSE_train = mean_squared_error(data[0], data[2], train_fit)\n",
    "    MSE_val = mean_squared_error(data[1], data[3], train_fit)\n",
    "    \n",
    "    return MSE_train, MSE_val, train_fit"
   ]
  },
  {
   "cell_type": "code",
   "execution_count": 56,
   "metadata": {
    "deletable": false,
    "editable": false,
    "nbgrader": {
     "cell_type": "code",
     "checksum": "dfd29e85e48a4738b69916b6796651c7",
     "grade": true,
     "grade_id": "correct_MSE",
     "locked": true,
     "points": 1,
     "schema_version": 3,
     "solution": false,
     "task": false
    }
   },
   "outputs": [],
   "source": [
    "X_train=np.array([[1],[2],[3]])\n",
    "y_train=np.array([[2],[5],[10]])\n",
    "assert mean_squared_error(X_train, y_train, np.array([1,0,1]))==0\n",
    "assert mean_squared_error(X_train, y_train, np.array([0,0,0]))==43\n",
    "\n",
    "X_val = np.array([[4],[5]])\n",
    "y_val = np.array([[17],[27]])\n",
    "MSE_train, MSE_val, theta_fit = \\\n",
    "    polynomial_regression( (X_train, X_val, y_train, y_val), 2)\n",
    "assert MSE_val-0.5 < 1e-5\n"
   ]
  },
  {
   "cell_type": "markdown",
   "metadata": {
    "deletable": false,
    "editable": false,
    "nbgrader": {
     "cell_type": "markdown",
     "checksum": "678e458083b6a9b788bb5b8a6eb4dd1e",
     "grade": false,
     "grade_id": "cell-0a736787d7c078d6",
     "locked": true,
     "schema_version": 3,
     "solution": false,
     "task": false
    }
   },
   "source": [
    "#### (b) Perform linear regression with different polynomial models\n",
    "- For each data set you should then perform linear regression using polynomial models of order 1,2,3,4,5, and 20.\n",
    "- Finally, print the fit coefficients for each polynomial model that was considered and print also the mean-squared error (MSE) for both the training and the validation sets."
   ]
  },
  {
   "cell_type": "code",
   "execution_count": 67,
   "metadata": {
    "deletable": false,
    "nbgrader": {
     "cell_type": "code",
     "checksum": "898c9652ff10c9817d46d55d5be266d9",
     "grade": false,
     "grade_id": "cell-49fbcaec1138af05",
     "locked": false,
     "schema_version": 3,
     "solution": true,
     "task": false
    }
   },
   "outputs": [
    {
     "name": "stdout",
     "output_type": "stream",
     "text": [
      "Degree 1 \n",
      "\n",
      "Fit coef [ 9.80118279 -1.39892318] \n",
      "\n",
      "Fit MSE_train 74.6349015767281 \n",
      "\n",
      "Fit MSE_val 51.25592709419284 \n",
      "\n",
      "\n",
      "\n",
      "Degree 2 \n",
      "\n",
      "Fit coef [ 0.14671346 -0.72105037  2.93295029] \n",
      "\n",
      "Fit MSE_train 5.673204778819252 \n",
      "\n",
      "Fit MSE_val 5.277523423670185 \n",
      "\n",
      "\n",
      "\n",
      "Degree 3 \n",
      "\n",
      "Fit coef [ 0.04772979  1.4412624   2.86386092 -0.37624813] \n",
      "\n",
      "Fit MSE_train 2.9895085014940745 \n",
      "\n",
      "Fit MSE_val 3.2624075129781978 \n",
      "\n",
      "\n",
      "\n",
      "Degree 4 \n",
      "\n",
      "Fit coef [ 2.26154331  1.12462846  0.57568938 -0.28314384  0.28301078] \n",
      "\n",
      "Fit MSE_train 0.009685068888272893 \n",
      "\n",
      "Fit MSE_val 0.00550791341514883 \n",
      "\n",
      "\n",
      "\n",
      "Degree 5 \n",
      "\n",
      "Fit coef [ 2.26121069e+00  1.11628442e+00  5.76920902e-01 -2.78736024e-01\n",
      "  2.82794053e-01 -4.41040648e-04] \n",
      "\n",
      "Fit MSE_train 0.009670316903143098 \n",
      "\n",
      "Fit MSE_val 0.005618716767245629 \n",
      "\n",
      "\n",
      "\n",
      "Degree 20 \n",
      "\n",
      "Fit coef [ 2.22942659e+00  1.14984016e+00  1.01305641e+00 -4.48526146e-01\n",
      " -1.38280079e+00  1.57342337e-01  2.70365409e+00 -2.45487049e-02\n",
      " -2.21424449e+00 -2.91883237e-02  1.02081754e+00  1.71706827e-02\n",
      " -2.81717825e-01 -4.14136946e-03  4.75237088e-02  5.17837356e-04\n",
      " -4.79981602e-03 -3.29457653e-05  2.66446268e-04  8.42698850e-07\n",
      " -6.24904495e-06] \n",
      "\n",
      "Fit MSE_train 0.008408196390064746 \n",
      "\n",
      "Fit MSE_val 0.00885626143670993 \n",
      "\n",
      "\n",
      "\n",
      "Degree 1 \n",
      "\n",
      "Fit coef [2.72773891 0.3668144 ] \n",
      "\n",
      "Fit MSE_train 3.5107549108449807 \n",
      "\n",
      "Fit MSE_val 2.76700004198231 \n",
      "\n",
      "\n",
      "\n",
      "Degree 2 \n",
      "\n",
      "Fit coef [0.97840283 0.48964117 0.53143426] \n",
      "\n",
      "Fit MSE_train 1.2466443655673687 \n",
      "\n",
      "Fit MSE_val 1.1389171118671462 \n",
      "\n",
      "\n",
      "\n",
      "Degree 3 \n",
      "\n",
      "Fit coef [ 0.91785097  1.81240555  0.48916981 -0.23016449] \n",
      "\n",
      "Fit MSE_train 0.24234932883432495 \n",
      "\n",
      "Fit MSE_val 0.1350128855556097 \n",
      "\n",
      "\n",
      "\n",
      "Degree 4 \n",
      "\n",
      "Fit coef [ 0.89871657  1.81514228  0.5089469  -0.23096921 -0.00244611] \n",
      "\n",
      "Fit MSE_train 0.2421267222068228 \n",
      "\n",
      "Fit MSE_val 0.13769783537871977 \n",
      "\n",
      "\n",
      "\n",
      "Degree 5 \n",
      "\n",
      "Fit coef [ 0.89705343  1.77342211  0.51510451 -0.20893012 -0.00352974 -0.0022052 ] \n",
      "\n",
      "Fit MSE_train 0.24175792257857742 \n",
      "\n",
      "Fit MSE_val 0.14046791918114132 \n",
      "\n",
      "\n",
      "\n",
      "Degree 20 \n",
      "\n",
      "Fit coef [ 7.38132947e-01  1.94120081e+00  2.69578207e+00 -1.05788073e+00\n",
      " -8.33150395e+00  7.86711684e-01  1.35182704e+01 -1.22743525e-01\n",
      " -1.10712225e+01 -1.45941618e-01  5.10408768e+00  8.58534136e-02\n",
      " -1.40858913e+00 -2.07068473e-02  2.37618544e-01  2.58918678e-03\n",
      " -2.39990801e-02 -1.64728826e-04  1.33223134e-03  4.21349425e-06\n",
      " -3.12452247e-05] \n",
      "\n",
      "Fit MSE_train 0.21020490975790257 \n",
      "\n",
      "Fit MSE_val 0.22140653591348838 \n",
      "\n",
      "\n",
      "\n"
     ]
    },
    {
     "ename": "IndexError",
     "evalue": "index 3 is out of bounds for axis 0 with size 3",
     "output_type": "error",
     "traceback": [
      "\u001b[1;31m---------------------------------------------------------------------------\u001b[0m",
      "\u001b[1;31mIndexError\u001b[0m                                Traceback (most recent call last)",
      "\u001b[1;32m<ipython-input-67-32434ed06e24>\u001b[0m in \u001b[0;36m<module>\u001b[1;34m\u001b[0m\n\u001b[0;32m      7\u001b[0m     \u001b[1;32mfor\u001b[0m \u001b[0mj\u001b[0m \u001b[1;32min\u001b[0m \u001b[0mrange\u001b[0m\u001b[1;33m(\u001b[0m\u001b[0mlen\u001b[0m\u001b[1;33m(\u001b[0m\u001b[0morder\u001b[0m\u001b[1;33m)\u001b[0m\u001b[1;33m)\u001b[0m\u001b[1;33m:\u001b[0m\u001b[1;33m\u001b[0m\u001b[1;33m\u001b[0m\u001b[0m\n\u001b[0;32m      8\u001b[0m         \u001b[0mMSE_train\u001b[0m\u001b[1;33m,\u001b[0m \u001b[0mMSE_val\u001b[0m\u001b[1;33m,\u001b[0m \u001b[0mtheta_fit\u001b[0m \u001b[1;33m=\u001b[0m \u001b[0mpolynomial_regression\u001b[0m\u001b[1;33m(\u001b[0m\u001b[1;33m(\u001b[0m\u001b[0mX_train\u001b[0m\u001b[1;33m,\u001b[0m \u001b[0mX_val\u001b[0m\u001b[1;33m,\u001b[0m \u001b[0my_train\u001b[0m\u001b[1;33m,\u001b[0m \u001b[0my_val\u001b[0m\u001b[1;33m)\u001b[0m\u001b[1;33m,\u001b[0m \u001b[0mdegree\u001b[0m\u001b[1;33m=\u001b[0m\u001b[0morder\u001b[0m\u001b[1;33m[\u001b[0m\u001b[0mj\u001b[0m\u001b[1;33m]\u001b[0m\u001b[1;33m)\u001b[0m\u001b[1;33m\u001b[0m\u001b[1;33m\u001b[0m\u001b[0m\n\u001b[1;32m----> 9\u001b[1;33m         \u001b[0mresponse_mse_train\u001b[0m\u001b[1;33m[\u001b[0m\u001b[0mi\u001b[0m\u001b[1;33m,\u001b[0m\u001b[0mj\u001b[0m\u001b[1;33m]\u001b[0m \u001b[1;33m=\u001b[0m \u001b[0mMSE_train\u001b[0m\u001b[1;33m\u001b[0m\u001b[1;33m\u001b[0m\u001b[0m\n\u001b[0m\u001b[0;32m     10\u001b[0m         \u001b[0mresponse_mse_val\u001b[0m\u001b[1;33m[\u001b[0m\u001b[0mi\u001b[0m\u001b[1;33m,\u001b[0m\u001b[0mj\u001b[0m\u001b[1;33m]\u001b[0m \u001b[1;33m=\u001b[0m \u001b[0mMSE_val\u001b[0m\u001b[1;33m\u001b[0m\u001b[1;33m\u001b[0m\u001b[0m\n\u001b[0;32m     11\u001b[0m         \u001b[0mprint\u001b[0m\u001b[1;33m(\u001b[0m\u001b[1;34m'Degree'\u001b[0m\u001b[1;33m,\u001b[0m\u001b[0morder\u001b[0m\u001b[1;33m[\u001b[0m\u001b[0mj\u001b[0m\u001b[1;33m]\u001b[0m\u001b[1;33m,\u001b[0m\u001b[1;34m\"\\n\"\u001b[0m\u001b[1;33m)\u001b[0m\u001b[1;33m\u001b[0m\u001b[1;33m\u001b[0m\u001b[0m\n",
      "\u001b[1;31mIndexError\u001b[0m: index 3 is out of bounds for axis 0 with size 3"
     ]
    }
   ],
   "source": [
    "order = [1,2,3,4,5,20]\n",
    "response_mse_train = np.zeros((3,6))\n",
    "response_mse_val = np.zeros((3,6))\n",
    "for i in [1,2,3]:\n",
    "    datafile = f'DataFiles/dataset{str(i)}.dat'\n",
    "    (X_train, X_val, y_train, y_val) = load_data(datafile)\n",
    "    for j in range(len(order)):\n",
    "        MSE_train, MSE_val, theta_fit = polynomial_regression((X_train, X_val, y_train, y_val), degree=order[j])\n",
    "        response_mse_train[i,j] = MSE_train\n",
    "        response_mse_val[i,j] = MSE_val\n",
    "        print('Degree',order[j],\"\\n\")\n",
    "        print('Fit coef',theta_fit,'\\n')\n",
    "        print('Fit MSE_train',MSE_train,'\\n')\n",
    "        print('Fit MSE_val',MSE_val,'\\n')\n",
    "        print(\"\\n\")\n",
    "    response[str(i)] = dataset\n",
    "        \n",
    "    "
   ]
  },
  {
   "cell_type": "code",
   "execution_count": 72,
   "metadata": {},
   "outputs": [
    {
     "data": {
      "text/plain": [
       "[<matplotlib.lines.Line2D at 0x29b67c830d0>]"
      ]
     },
     "execution_count": 72,
     "metadata": {},
     "output_type": "execute_result"
    },
    {
     "data": {
      "image/png": "[encoded data removed]",
      "text/plain": [
       "<Figure size 1080x360 with 3 Axes>"
      ]
     },
     "metadata": {
      "needs_background": "light"
     },
     "output_type": "display_data"
    }
   ],
   "source": [
    "plt.figure(figsize=(15,5))\n",
    "ax = plt.subplot(1,3,1)\n",
    "ax1 = plt.subplot(1,3,2)\n",
    "ax2 = plt.subplot(1,3,3)\n",
    "ax.plot(order,response_mse_train[0,:])\n",
    "ax1.plot(order,response_mse_train[1,:])\n",
    "ax2.plot(order,response_mse_train[2,:])"
   ]
  },
  {
   "cell_type": "markdown",
   "metadata": {
    "deletable": false,
    "editable": false,
    "nbgrader": {
     "cell_type": "markdown",
     "checksum": "ca1f4ede86ea51e10818cfe3db423ff4",
     "grade": false,
     "grade_id": "cell-fcfe8b4f88e942d0",
     "locked": true,
     "schema_version": 3,
     "solution": false,
     "task": false
    }
   },
   "source": [
    "Use the text cell below to answer the following two questions:\n",
    "- Which degrees of polynomials do you think was used for generating the different datasets?\n",
    "- Which dataset do you think has the most noise?\n",
    "\n",
    "Discuss your reasoning."
   ]
  },
  {
   "cell_type": "markdown",
   "metadata": {
    "deletable": false,
    "nbgrader": {
     "cell_type": "markdown",
     "checksum": "fb4cda3ecfa02dd28b9121059f9511c5",
     "grade": true,
     "grade_id": "cell-93dac302fd63f96a",
     "locked": false,
     "points": 1,
     "schema_version": 3,
     "solution": true,
     "task": false
    }
   },
   "source": [
    "* * *\n",
    "**PLEASE WRITE YOUR ANSWER HERE** \n",
    "* * *"
   ]
  },
  {
   "cell_type": "markdown",
   "metadata": {},
   "source": [
    "## Problem 4\n",
    "### (3 points)"
   ]
  },
  {
   "cell_type": "markdown",
   "metadata": {},
   "source": [
    "### Standard medical example by applying Bayesian rules of probability"
   ]
  },
  {
   "cell_type": "markdown",
   "metadata": {
    "deletable": false,
    "editable": false,
    "nbgrader": {
     "cell_type": "markdown",
     "checksum": "047732edfc9bef96df36ebc94305b8c7",
     "grade": false,
     "grade_id": "cell-a717eb4d32ba845e",
     "locked": true,
     "schema_version": 3,
     "solution": false,
     "task": false
    }
   },
   "source": [
    "Suppose there is an unknown disease (call it UD) that does not give any symptoms in its early phase, but that there is a test for it.\n",
    "\n",
    "a. The false positive rate is 2.3%. (\"False positive\" means the test says you have UD, but you don't.) <br>\n",
    "b. The false negative rate is 1.4%. (\"False negative\" means you have UD, but the test says you don't.)\n",
    "\n",
    "Assume that 1 in 10,000 people have the disease. You are given the test and get a positive result.  Your ultimate goal is to find the probability that you actually have the disease. \n",
    "$% Some LaTeX definitions we'll use.\n",
    "\\newcommand{\\pr}{\\textrm{p}}\n",
    "$"
   ]
  },
  {
   "cell_type": "markdown",
   "metadata": {
    "deletable": false,
    "editable": false,
    "nbgrader": {
     "cell_type": "markdown",
     "checksum": "7e3d6d1a8635628beb75d133afccc515",
     "grade": false,
     "grade_id": "cell-51752b16483bb655",
     "locked": true,
     "schema_version": 3,
     "solution": false,
     "task": false
    }
   },
   "source": [
    "We'll do it using the Bayesian rules.\n",
    "\n",
    "We'll use the notation:\n",
    "\n",
    "* $H$ = \"you have UD\"\n",
    "* $\\overline H$ = \"you do not have UD\"  \n",
    "* $D$ = \"you test positive for UD\"\n",
    "* $\\overline D$ = \"you test negative for UD\"  "
   ]
  },
  {
   "cell_type": "markdown",
   "metadata": {
    "deletable": false,
    "editable": false,
    "nbgrader": {
     "cell_type": "markdown",
     "checksum": "761b695a589fdd6055969477da26236a",
     "grade": false,
     "grade_id": "cell-61c95058fe103533",
     "locked": true,
     "schema_version": 3,
     "solution": false,
     "task": false
    }
   },
   "source": [
    "Use the text cell below to answer the following questions:\n",
    "<br>\n",
    "Notation: $H$ = \"you have UD\", &nbsp;&nbsp; $\\overline H$ = \"you do not have UD\",  &nbsp;&nbsp; $D$ = \"you test positive for UD\", &nbsp;&nbsp;  $\\overline D$ = \"you test negative for UD\" \n",
    "\n",
    "a. *Before doing a calculation (or thinking too hard :), does your intuition tell you the probability you have the disease is high or low?*\n",
    "<br>\n",
    "\n",
    "b. *In the $p(\\cdot | \\cdot)$ notation, what is your ultimate goal?*\n",
    "<br>\n",
    "\n",
    "c. *Express the false positive rate in $p(\\cdot | \\cdot)$ notation.* \\[Ask yourself first: what is to the left of the bar?\\]\n",
    "<br>\n",
    "\n",
    "d. *Express the false negative rate in $p(\\cdot | \\cdot)$ notation. By applying the sum rule, what do you also know? (If you get stuck answering the question, do the next part first.)* \n",
    "<br>\n",
    "\n",
    "e. *Should $p(D|H) + p(D|\\overline H) = 1$?\n",
    "    Should $p(D|H) + p(\\overline D |H) = 1$?\n",
    "    (Hint: does the sum rule apply on the left or right of the $|$?)*\n",
    "<br>\n",
    "\n",
    "f. *Apply Bayes' theorem to your result for your ultimate goal (don't put in numbers yet).\n",
    "   What other probabilities do we need?*\n",
    "<br>"
   ]
  },
  {
   "cell_type": "markdown",
   "metadata": {
    "deletable": false,
    "nbgrader": {
     "cell_type": "markdown",
     "checksum": "fb1da5dddbf1953ecc29a49363a2c0f1",
     "grade": true,
     "grade_id": "cell-0221c5c91a887b41",
     "locked": false,
     "points": 1,
     "schema_version": 3,
     "solution": true,
     "task": false
    }
   },
   "source": [
    "* * *\n",
    "**PLEASE WRITE YOUR ANSWER HERE** \n",
    "* * *"
   ]
  },
  {
   "cell_type": "code",
   "execution_count": null,
   "metadata": {
    "deletable": false,
    "nbgrader": {
     "cell_type": "code",
     "checksum": "2c26443747ad7abc8240520552e29550",
     "grade": false,
     "grade_id": "medical_example",
     "locked": false,
     "schema_version": 3,
     "solution": true,
     "task": false
    }
   },
   "outputs": [],
   "source": [
    "# Please fill the probabilities as values for the \n",
    "# corresponding keys in the following dictionary.\n",
    "medical_example_probabilities = {}\n",
    "medical_example_probabilities['p(D|Hbar)'] = 0.0\n",
    "medical_example_probabilities['p(Dbar|H)'] = 0.0\n",
    "medical_example_probabilities['p(D|H)'] = 0.0\n",
    "medical_example_probabilities['p(H,Hbar|D)'] = 0.0\n",
    "medical_example_probabilities['p(Hbar)'] = 0.0\n",
    "medical_example_probabilities['p(D)'] = 0.0\n",
    "medical_example_probabilities['p(H|D)'] = 0.0\n",
    "\n",
    "# \n",
    "# YOUR CODE HERE\n",
    "# "
   ]
  },
  {
   "cell_type": "code",
   "execution_count": null,
   "metadata": {
    "deletable": false,
    "editable": false,
    "nbgrader": {
     "cell_type": "code",
     "checksum": "5319de57d7e765d7efebff3ab392c769",
     "grade": true,
     "grade_id": "correct_1_medical_example",
     "locked": true,
     "points": 1,
     "schema_version": 3,
     "solution": false,
     "task": false
    }
   },
   "outputs": [],
   "source": [
    "for key in ['p(D|Hbar)', 'p(Dbar|H)', 'p(D|H)']:\n",
    "    assert medical_example_probabilities[key] > 0.\n",
    "    assert medical_example_probabilities[key] < 1.\n",
    "    \n",
    "assert medical_example_probabilities['p(H,Hbar|D)'] <= 1.0\n"
   ]
  },
  {
   "cell_type": "code",
   "execution_count": null,
   "metadata": {
    "deletable": false,
    "editable": false,
    "nbgrader": {
     "cell_type": "code",
     "checksum": "2f767d6ab42f1573d59d64de9f207cec",
     "grade": true,
     "grade_id": "correct_2_medical_example",
     "locked": true,
     "points": 1,
     "schema_version": 3,
     "solution": false,
     "task": false
    }
   },
   "outputs": [],
   "source": [
    "for key in ['p(Hbar)', 'p(D)', 'p(H|D)']:\n",
    "    assert medical_example_probabilities[key] > 0.\n",
    "    assert medical_example_probabilities[key] < 1."
   ]
  },
  {
   "cell_type": "code",
   "execution_count": null,
   "metadata": {},
   "outputs": [],
   "source": []
  }
 ],
 "metadata": {
  "kernelspec": {
   "display_name": "Python 3",
   "language": "python",
   "name": "python3"
  },
  "language_info": {
   "codemirror_mode": {
    "name": "ipython",
    "version": 3
   },
   "file_extension": ".py",
   "mimetype": "text/x-python",
   "name": "python",
   "nbconvert_exporter": "python",
   "pygments_lexer": "ipython3",
   "version": "3.8.8"
  },
  "nav_menu": {},
  "toc": {
   "navigate_menu": true,
   "number_sections": true,
   "sideBar": true,
   "threshold": 6,
   "toc_cell": false,
   "toc_section_display": "block",
   "toc_window_display": false
  }
 },
 "nbformat": 4,
 "nbformat_minor": 1
}
